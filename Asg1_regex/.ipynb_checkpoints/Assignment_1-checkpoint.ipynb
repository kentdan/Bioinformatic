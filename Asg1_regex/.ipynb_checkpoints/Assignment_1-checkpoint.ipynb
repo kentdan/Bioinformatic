{
 "cells": [
  {
   "cell_type": "code",
   "execution_count": 1,
   "id": "017218db",
   "metadata": {},
   "outputs": [
    {
     "data": {
      "text/html": [
       "'/Users/danielkent/Desktop/Bioinformatics/Asg1_regex'"
      ],
      "text/latex": [
       "'/Users/danielkent/Desktop/Bioinformatics/Asg1\\_regex'"
      ],
      "text/markdown": [
       "'/Users/danielkent/Desktop/Bioinformatics/Asg1_regex'"
      ],
      "text/plain": [
       "[1] \"/Users/danielkent/Desktop/Bioinformatics/Asg1_regex\""
      ]
     },
     "metadata": {},
     "output_type": "display_data"
    },
    {
     "name": "stderr",
     "output_type": "stream",
     "text": [
      "\n",
      "Attaching package: ‘dplyr’\n",
      "\n",
      "\n",
      "The following objects are masked from ‘package:stats’:\n",
      "\n",
      "    filter, lag\n",
      "\n",
      "\n",
      "The following objects are masked from ‘package:base’:\n",
      "\n",
      "    intersect, setdiff, setequal, union\n",
      "\n",
      "\n"
     ]
    }
   ],
   "source": [
    "getwd()\n",
    "library(dplyr)"
   ]
  },
  {
   "cell_type": "markdown",
   "id": "2ea0fc8c",
   "metadata": {},
   "source": [
    "Question 1: Credit card number\n",
    "You are developing an online shopping platform, and try to implement a simple credit card validation system. Here are the rules for three major credit card companies.\n",
    "\n",
    "    VISA Card: Visa card numbers start with a 4. Total of 16 digits.\n",
    "    MasterCard: MasterCard numbers start with the numbers 51 through 55. Total of 16 digits.\n",
    "    Discover: Discover card numbers start with numbers 6011 or 6522, and end with numbers 2,4,6,8. \n",
    "    Total of 16 digits.\n",
    "Use the dataset data_credit_card_number.txt to determine how many valid credit card numbers are from each of the credit card companies. You can use a text editor or R to solve this. (3 marks)\n",
    "\n",
    "Note: These numbers are NOT real credit card numbers. Please do NOT use them.\n"
   ]
  },
  {
   "cell_type": "code",
   "execution_count": 2,
   "id": "51d82766",
   "metadata": {},
   "outputs": [
    {
     "name": "stdout",
     "output_type": "stream",
     "text": [
      " chr [1:416] \"3319593137130142\" \"3061163962353021\" \"1799151766579598\" ...\n"
     ]
    }
   ],
   "source": [
    "df1 <-  readLines(\"/Users/danielkent/Desktop/Bioinformatics/Assignment1_data/data_credit_card_number.txt\")\n",
    "glimpse(df1) #str on drug"
   ]
  },
  {
   "cell_type": "code",
   "execution_count": 3,
   "id": "5d0124fb",
   "metadata": {},
   "outputs": [
    {
     "name": "stdout",
     "output_type": "stream",
     "text": [
      " chr [1:86] \"4306833673268557\" \"4195838546939194\" \"4146352792344987\" ...\n"
     ]
    },
    {
     "data": {
      "text/html": [
       "86"
      ],
      "text/latex": [
       "86"
      ],
      "text/markdown": [
       "86"
      ],
      "text/plain": [
       "[1] 86"
      ]
     },
     "metadata": {},
     "output_type": "display_data"
    }
   ],
   "source": [
    "Visa <- grep(\"^[4][0-9]{15}\", df1, value = TRUE)\n",
    "glimpse(Visa)\n",
    "length(Visa) "
   ]
  },
  {
   "cell_type": "code",
   "execution_count": 4,
   "id": "ce1cb08d",
   "metadata": {},
   "outputs": [
    {
     "name": "stdout",
     "output_type": "stream",
     "text": [
      " chr [1:42] \"5126132815442979\" \"5358083919268101\" \"5313941230252385\" ...\n"
     ]
    },
    {
     "data": {
      "text/html": [
       "42"
      ],
      "text/latex": [
       "42"
      ],
      "text/markdown": [
       "42"
      ],
      "text/plain": [
       "[1] 42"
      ]
     },
     "metadata": {},
     "output_type": "display_data"
    }
   ],
   "source": [
    "Master <- grep(\"^[5][1-5][0-9]{14}\", df1, value = TRUE)\n",
    "glimpse(Master)\n",
    "length(Master)"
   ]
  },
  {
   "cell_type": "code",
   "execution_count": 5,
   "id": "f33c0b9e",
   "metadata": {},
   "outputs": [
    {
     "name": "stdout",
     "output_type": "stream",
     "text": [
      " chr [1:18] \"6522688369302642\" \"6011274687584682\" \"6522175602681562\" ...\n"
     ]
    },
    {
     "data": {
      "text/html": [
       "18"
      ],
      "text/latex": [
       "18"
      ],
      "text/markdown": [
       "18"
      ],
      "text/plain": [
       "[1] 18"
      ]
     },
     "metadata": {},
     "output_type": "display_data"
    }
   ],
   "source": [
    "Dis1 <- grep(\"^(6011|6522)\", df1, value = TRUE)\n",
    "Discovery <- grep(\"[2468]$\", Dis1, value = TRUE)\n",
    "glimpse(Discovery)\n",
    "length(Discovery)"
   ]
  },
  {
   "cell_type": "markdown",
   "id": "973a5651",
   "metadata": {},
   "source": [
    "To expand your online shopping platform, therefore you are running lotteries for customers using their phone numbers. You notice that customers record their phone numbers in three different formats.\n",
    "- XXXXXXXXXX \n",
    "- XXXX-XXXXXX \n",
    "- XXXX-XXX-XXX"
   ]
  },
  {
   "cell_type": "markdown",
   "id": "6f202532",
   "metadata": {},
   "source": [
    "Use R and regular expressions to solve the following questions. You can import the data into R by using the following command.\n",
    "1. The telecommunication company Telecom have their mobile numbers begin with 0965, 0966, or 0967. How many customers are using mobile numbers from Telecom? (1 mark)\n",
    "\n",
    "2. For round 1 of the lottery, you want to select customers with the 2nd to the last digits equals to 7 or 9. (i.e. XXXX-XXX-X9X and XXXX-XXX-X7X). How many customers win the round 1 lottery. (2 marks)\n",
    "\n",
    "3. For round 2 of the lottery, you want to select customers with the 7th and 8th digits equal to 5. (i.e. XXXX-XX5-5XX). How many customers win the round 2 lottery. (2 marks)\n",
    "\n",
    "4. Convert all phone numbers into this pattern XXXX-XXX-XXX. (Hints: use gsub in R) (3 marks)\n",
    "Note: These numbers are NOT real phone numbers. Please do NOT call them.\n"
   ]
  },
  {
   "cell_type": "code",
   "execution_count": 6,
   "id": "84ba807f",
   "metadata": {},
   "outputs": [
    {
     "name": "stdout",
     "output_type": "stream",
     "text": [
      " chr [1:1320] \"0934-169737\" \"0990-520-524\" \"0934453293\" \"0990655433\" ...\n"
     ]
    }
   ],
   "source": [
    "df2 <- readLines(\"/Users/danielkent/Desktop/Bioinformatics/Assignment1_data/data_phone_number.txt\")\n",
    "glimpse(df2)"
   ]
  },
  {
   "cell_type": "markdown",
   "id": "6f33afe0",
   "metadata": {},
   "source": [
    "1. The telecommunication company Telecom have their mobile numbers begin with 0965, 0966, or 0967. How many customers are using mobile numbers from Telecom? (1 mark)"
   ]
  },
  {
   "cell_type": "code",
   "execution_count": 7,
   "id": "9dbf210e",
   "metadata": {},
   "outputs": [
    {
     "name": "stdout",
     "output_type": "stream",
     "text": [
      " chr [1:547] \"0966524295\" \"0965-865-884\" \"0967-807710\" \"0965-688577\" ...\n"
     ]
    },
    {
     "data": {
      "text/html": [
       "547"
      ],
      "text/latex": [
       "547"
      ],
      "text/markdown": [
       "547"
      ],
      "text/plain": [
       "[1] 547"
      ]
     },
     "metadata": {},
     "output_type": "display_data"
    }
   ],
   "source": [
    "telecom <- grep(\"^(0965|0966|0967)\", df2, value = TRUE)\n",
    "glimpse(telecom)\n",
    "length(telecom)"
   ]
  },
  {
   "cell_type": "markdown",
   "id": "b2060401",
   "metadata": {},
   "source": [
    "Removing punctuation and whitespace so it is easier for q2 and q3"
   ]
  },
  {
   "cell_type": "code",
   "execution_count": 8,
   "id": "01da380e",
   "metadata": {},
   "outputs": [
    {
     "name": "stdout",
     "output_type": "stream",
     "text": [
      " chr [1:1320] \"0934169737\" \"0990520524\" \"0934453293\" \"0990655433\" ...\n"
     ]
    }
   ],
   "source": [
    "phone0 <- gsub(\"[[:punct:]]\", \"\", df2) \n",
    "phone1 <- trimws(phone0)\n",
    "glimpse(phone1)"
   ]
  },
  {
   "cell_type": "markdown",
   "id": "2dfe8ace",
   "metadata": {},
   "source": [
    "2. For round 1 of the lottery, you want to select customers with the 2nd to the last digits equals to 7 or 9. (i.e. XXXX-XXX-X9X and XXXX-XXX-X7X). How many customers win the round 1 lottery. (2 marks)"
   ]
  },
  {
   "cell_type": "code",
   "execution_count": 9,
   "id": "a95ef9d3",
   "metadata": {},
   "outputs": [
    {
     "name": "stdout",
     "output_type": "stream",
     "text": [
      " chr [1:269] \"0934453293\" \"0966524295\" \"0965688577\" \"0953125179\" ...\n"
     ]
    },
    {
     "data": {
      "text/html": [
       "269"
      ],
      "text/latex": [
       "269"
      ],
      "text/markdown": [
       "269"
      ],
      "text/plain": [
       "[1] 269"
      ]
     },
     "metadata": {},
     "output_type": "display_data"
    }
   ],
   "source": [
    "lotr1 <- grep(\"(7|9)[0-9]$\", phone1, value = TRUE) #using phone1 (no punctuation & whitespace)\n",
    "glimpse(lotr1)\n",
    "length(lotr1)"
   ]
  },
  {
   "cell_type": "markdown",
   "id": "2ffac139",
   "metadata": {},
   "source": [
    "3. For round 2 of the lottery, you want to select customers with the 7th and 8th digits equal to 5. (i.e. XXXX-XX5-5XX). How many customers win the round 2 lottery. (2 marks)"
   ]
  },
  {
   "cell_type": "code",
   "execution_count": 10,
   "id": "63e94c68",
   "metadata": {},
   "outputs": [
    {
     "name": "stdout",
     "output_type": "stream",
     "text": [
      " chr [1:4] \"0967125570\" \"0966245596\" \"0912245574\" \"0966955593\"\n"
     ]
    },
    {
     "data": {
      "text/html": [
       "4"
      ],
      "text/latex": [
       "4"
      ],
      "text/markdown": [
       "4"
      ],
      "text/plain": [
       "[1] 4"
      ]
     },
     "metadata": {},
     "output_type": "display_data"
    }
   ],
   "source": [
    "lotr2 = grep(\"......(55)\", lotr1, value = TRUE)\n",
    "glimpse(lotr2)\n",
    "length(lotr2)"
   ]
  },
  {
   "cell_type": "markdown",
   "id": "bd68d7f9",
   "metadata": {},
   "source": [
    "4. Convert all phone numbers into this pattern XXXX-XXX-XXX. (Hints: use gsub in R) (3 marks)"
   ]
  },
  {
   "cell_type": "code",
   "execution_count": 11,
   "id": "a3e90543",
   "metadata": {},
   "outputs": [
    {
     "name": "stdout",
     "output_type": "stream",
     "text": [
      " chr [1:1320] \"0934-169-737\" \"0990-520-524\" \"0934-453-293\" \"0990-655-433\" ...\n"
     ]
    }
   ],
   "source": [
    "phone2 <- gsub(\"(^\\\\d{4})(\\\\d{3})(\\\\d{3}$)\",\"\\\\1-\\\\2-\\\\3\",phone1)\n",
    "glimpse(phone2)"
   ]
  },
  {
   "cell_type": "markdown",
   "id": "eff669c0",
   "metadata": {},
   "source": [
    "You receive a catalogue for some basic lab equipment from a biotech company. The catalogue file has two columns, catalogue_number and price. With a limited budget and you try to spend every single dollar, therefore, you have some constraints when you try to place an order.\n",
    "Use R and regular expressions to find the catalogue number that satisfies the following scenarios. You can import the data into R by using the following command.\n"
   ]
  },
  {
   "cell_type": "markdown",
   "id": "0c3476d9",
   "metadata": {},
   "source": [
    "\n",
    "Find all the catalogue_number that meet the criteria in each of the following scenarios.\n",
    "\n",
    "1. Scenario 1: Items that are less than (not include) $10. (1 mark)\n",
    "\n",
    "2. Scenario 2: Items with a price ending in the 22, 33, 55, 77 cents. (2 mark)\n",
    "\n",
    "3. Scenario 3: Items between $50 - $70, and the price ends with an even number (i.e. 55.32, 66.64, 51.98...etc) (2 marks)\n",
    "\n",
    "4. Scenario 4: Items between $50-$70, and catalogue_number begin with R (reagent).\n",
    "(3 marks)"
   ]
  },
  {
   "cell_type": "code",
   "execution_count": 12,
   "id": "213007cb",
   "metadata": {},
   "outputs": [
    {
     "name": "stdout",
     "output_type": "stream",
     "text": [
      "Rows: 113\n",
      "Columns: 2\n",
      "$ Catalogue_number \u001b[3m\u001b[90m<chr>\u001b[39m\u001b[23m \"X63\", \"R70\", \"S32\", \"R50\", \"S68\", \"C65\", \"C30\", \"S30…\n",
      "$ Price            \u001b[3m\u001b[90m<chr>\u001b[39m\u001b[23m \"$36.97\", \"$19.07\", \"$82.77\", \"$27.18\", \"$41.60\", \"$3…\n"
     ]
    }
   ],
   "source": [
    "df3 <- read.table(\"/Users/danielkent/Desktop/Bioinformatics/Assignment1_data/data_biotech_catalogue.tsv\", header=T)\n",
    "glimpse(df3) #adding data"
   ]
  },
  {
   "cell_type": "markdown",
   "id": "dff9c4a2",
   "metadata": {},
   "source": [
    "1. Scenario 1: Items that are less than (not include) $10. (1 mark)"
   ]
  },
  {
   "cell_type": "code",
   "execution_count": 13,
   "id": "1420a213",
   "metadata": {},
   "outputs": [
    {
     "data": {
      "text/html": [
       "<style>\n",
       ".list-inline {list-style: none; margin:0; padding: 0}\n",
       ".list-inline>li {display: inline-block}\n",
       ".list-inline>li:not(:last-child)::after {content: \"\\00b7\"; padding: 0 .5ex}\n",
       "</style>\n",
       "<ol class=list-inline><li>'$3.37'</li><li>'$1.91'</li><li>'$1.77'</li><li>'$2.15'</li><li>'$6.04'</li><li>'$6.79'</li></ol>\n"
      ],
      "text/latex": [
       "\\begin{enumerate*}\n",
       "\\item '\\$3.37'\n",
       "\\item '\\$1.91'\n",
       "\\item '\\$1.77'\n",
       "\\item '\\$2.15'\n",
       "\\item '\\$6.04'\n",
       "\\item '\\$6.79'\n",
       "\\end{enumerate*}\n"
      ],
      "text/markdown": [
       "1. '$3.37'\n",
       "2. '$1.91'\n",
       "3. '$1.77'\n",
       "4. '$2.15'\n",
       "5. '$6.04'\n",
       "6. '$6.79'\n",
       "\n",
       "\n"
      ],
      "text/plain": [
       "[1] \"$3.37\" \"$1.91\" \"$1.77\" \"$2.15\" \"$6.04\" \"$6.79\""
      ]
     },
     "metadata": {},
     "output_type": "display_data"
    },
    {
     "data": {
      "text/html": [
       "<style>\n",
       ".list-inline {list-style: none; margin:0; padding: 0}\n",
       ".list-inline>li {display: inline-block}\n",
       ".list-inline>li:not(:last-child)::after {content: \"\\00b7\"; padding: 0 .5ex}\n",
       "</style>\n",
       "<ol class=list-inline><li>'X33'</li><li>'X68'</li><li>'C83'</li><li>'S41'</li><li>'C80'</li><li>'R75'</li></ol>\n"
      ],
      "text/latex": [
       "\\begin{enumerate*}\n",
       "\\item 'X33'\n",
       "\\item 'X68'\n",
       "\\item 'C83'\n",
       "\\item 'S41'\n",
       "\\item 'C80'\n",
       "\\item 'R75'\n",
       "\\end{enumerate*}\n"
      ],
      "text/markdown": [
       "1. 'X33'\n",
       "2. 'X68'\n",
       "3. 'C83'\n",
       "4. 'S41'\n",
       "5. 'C80'\n",
       "6. 'R75'\n",
       "\n",
       "\n"
      ],
      "text/plain": [
       "[1] \"X33\" \"X68\" \"C83\" \"S41\" \"C80\" \"R75\""
      ]
     },
     "metadata": {},
     "output_type": "display_data"
    }
   ],
   "source": [
    "grep(\"^[\\\\$][0-9][\\\\.]\",df3$Price, value = TRUE)\n",
    "df3$Catalogue_number[grep(\"^[\\\\$][0-9][\\\\.]\",df3$Price)]"
   ]
  },
  {
   "cell_type": "markdown",
   "id": "ab31d80b",
   "metadata": {},
   "source": [
    "2. Scenario 2: Items with a price ending in the 22, 33, 55, 77 cents. (2 mark)"
   ]
  },
  {
   "cell_type": "code",
   "execution_count": 14,
   "id": "155a071f",
   "metadata": {},
   "outputs": [
    {
     "data": {
      "text/html": [
       "<style>\n",
       ".list-inline {list-style: none; margin:0; padding: 0}\n",
       ".list-inline>li {display: inline-block}\n",
       ".list-inline>li:not(:last-child)::after {content: \"\\00b7\"; padding: 0 .5ex}\n",
       "</style>\n",
       "<ol class=list-inline><li>'$82.77'</li><li>'$36.22'</li><li>'$82.77'</li><li>'$80.77'</li><li>'$1.77'</li><li>'$93.55'</li><li>'$29.33'</li><li>'$88.55'</li></ol>\n"
      ],
      "text/latex": [
       "\\begin{enumerate*}\n",
       "\\item '\\$82.77'\n",
       "\\item '\\$36.22'\n",
       "\\item '\\$82.77'\n",
       "\\item '\\$80.77'\n",
       "\\item '\\$1.77'\n",
       "\\item '\\$93.55'\n",
       "\\item '\\$29.33'\n",
       "\\item '\\$88.55'\n",
       "\\end{enumerate*}\n"
      ],
      "text/markdown": [
       "1. '$82.77'\n",
       "2. '$36.22'\n",
       "3. '$82.77'\n",
       "4. '$80.77'\n",
       "5. '$1.77'\n",
       "6. '$93.55'\n",
       "7. '$29.33'\n",
       "8. '$88.55'\n",
       "\n",
       "\n"
      ],
      "text/plain": [
       "[1] \"$82.77\" \"$36.22\" \"$82.77\" \"$80.77\" \"$1.77\"  \"$93.55\" \"$29.33\" \"$88.55\""
      ]
     },
     "metadata": {},
     "output_type": "display_data"
    },
    {
     "data": {
      "text/html": [
       "<style>\n",
       ".list-inline {list-style: none; margin:0; padding: 0}\n",
       ".list-inline>li {display: inline-block}\n",
       ".list-inline>li:not(:last-child)::after {content: \"\\00b7\"; padding: 0 .5ex}\n",
       "</style>\n",
       "<ol class=list-inline><li>'S32'</li><li>'S30'</li><li>'S86'</li><li>'X22'</li><li>'C83'</li><li>'S73'</li><li>'S50'</li><li>'X50'</li></ol>\n"
      ],
      "text/latex": [
       "\\begin{enumerate*}\n",
       "\\item 'S32'\n",
       "\\item 'S30'\n",
       "\\item 'S86'\n",
       "\\item 'X22'\n",
       "\\item 'C83'\n",
       "\\item 'S73'\n",
       "\\item 'S50'\n",
       "\\item 'X50'\n",
       "\\end{enumerate*}\n"
      ],
      "text/markdown": [
       "1. 'S32'\n",
       "2. 'S30'\n",
       "3. 'S86'\n",
       "4. 'X22'\n",
       "5. 'C83'\n",
       "6. 'S73'\n",
       "7. 'S50'\n",
       "8. 'X50'\n",
       "\n",
       "\n"
      ],
      "text/plain": [
       "[1] \"S32\" \"S30\" \"S86\" \"X22\" \"C83\" \"S73\" \"S50\" \"X50\""
      ]
     },
     "metadata": {},
     "output_type": "display_data"
    }
   ],
   "source": [
    "grep(\"(22|33|55|77)$\", df3$Price, value = TRUE)\n",
    "df3$Catalogue_number[grep(\"(22|33|55|77)$\", df3$Price)]"
   ]
  },
  {
   "cell_type": "markdown",
   "id": "4b626d47",
   "metadata": {},
   "source": [
    "3. Scenario 3: Items between $50 - $70, and the price ends with an even number (i.e. 55.32, 66.64, 51.98...etc) (2 marks)"
   ]
  },
  {
   "cell_type": "code",
   "execution_count": 15,
   "id": "39c5d93d",
   "metadata": {},
   "outputs": [
    {
     "data": {
      "text/html": [
       "<style>\n",
       ".list-inline {list-style: none; margin:0; padding: 0}\n",
       ".list-inline>li {display: inline-block}\n",
       ".list-inline>li:not(:last-child)::after {content: \"\\00b7\"; padding: 0 .5ex}\n",
       "</style>\n",
       "<ol class=list-inline><li>'$62.88'</li><li>'$65.88'</li><li>'$51.20'</li><li>'$68.24'</li><li>'$66.30'</li><li>'$64.36'</li><li>'$63.88'</li><li>'$69.84'</li><li>'$50.28'</li><li>'$62.24'</li><li>'$58.38'</li><li>'$54.78'</li><li>'$69.16'</li><li>'$53.12'</li><li>'$54.48'</li><li>'$56.72'</li></ol>\n"
      ],
      "text/latex": [
       "\\begin{enumerate*}\n",
       "\\item '\\$62.88'\n",
       "\\item '\\$65.88'\n",
       "\\item '\\$51.20'\n",
       "\\item '\\$68.24'\n",
       "\\item '\\$66.30'\n",
       "\\item '\\$64.36'\n",
       "\\item '\\$63.88'\n",
       "\\item '\\$69.84'\n",
       "\\item '\\$50.28'\n",
       "\\item '\\$62.24'\n",
       "\\item '\\$58.38'\n",
       "\\item '\\$54.78'\n",
       "\\item '\\$69.16'\n",
       "\\item '\\$53.12'\n",
       "\\item '\\$54.48'\n",
       "\\item '\\$56.72'\n",
       "\\end{enumerate*}\n"
      ],
      "text/markdown": [
       "1. '$62.88'\n",
       "2. '$65.88'\n",
       "3. '$51.20'\n",
       "4. '$68.24'\n",
       "5. '$66.30'\n",
       "6. '$64.36'\n",
       "7. '$63.88'\n",
       "8. '$69.84'\n",
       "9. '$50.28'\n",
       "10. '$62.24'\n",
       "11. '$58.38'\n",
       "12. '$54.78'\n",
       "13. '$69.16'\n",
       "14. '$53.12'\n",
       "15. '$54.48'\n",
       "16. '$56.72'\n",
       "\n",
       "\n"
      ],
      "text/plain": [
       " [1] \"$62.88\" \"$65.88\" \"$51.20\" \"$68.24\" \"$66.30\" \"$64.36\" \"$63.88\" \"$69.84\"\n",
       " [9] \"$50.28\" \"$62.24\" \"$58.38\" \"$54.78\" \"$69.16\" \"$53.12\" \"$54.48\" \"$56.72\""
      ]
     },
     "metadata": {},
     "output_type": "display_data"
    },
    {
     "data": {
      "text/html": [
       "<style>\n",
       ".list-inline {list-style: none; margin:0; padding: 0}\n",
       ".list-inline>li {display: inline-block}\n",
       ".list-inline>li:not(:last-child)::after {content: \"\\00b7\"; padding: 0 .5ex}\n",
       "</style>\n",
       "<ol class=list-inline><li>'C30'</li><li>'X66'</li><li>'X45'</li><li>'C87'</li><li>'S75'</li><li>'S52'</li><li>'R63'</li><li>'C48'</li><li>'S65'</li><li>'X47'</li><li>'R28'</li><li>'C84'</li><li>'R31'</li><li>'X60'</li><li>'C75'</li><li>'S26'</li></ol>\n"
      ],
      "text/latex": [
       "\\begin{enumerate*}\n",
       "\\item 'C30'\n",
       "\\item 'X66'\n",
       "\\item 'X45'\n",
       "\\item 'C87'\n",
       "\\item 'S75'\n",
       "\\item 'S52'\n",
       "\\item 'R63'\n",
       "\\item 'C48'\n",
       "\\item 'S65'\n",
       "\\item 'X47'\n",
       "\\item 'R28'\n",
       "\\item 'C84'\n",
       "\\item 'R31'\n",
       "\\item 'X60'\n",
       "\\item 'C75'\n",
       "\\item 'S26'\n",
       "\\end{enumerate*}\n"
      ],
      "text/markdown": [
       "1. 'C30'\n",
       "2. 'X66'\n",
       "3. 'X45'\n",
       "4. 'C87'\n",
       "5. 'S75'\n",
       "6. 'S52'\n",
       "7. 'R63'\n",
       "8. 'C48'\n",
       "9. 'S65'\n",
       "10. 'X47'\n",
       "11. 'R28'\n",
       "12. 'C84'\n",
       "13. 'R31'\n",
       "14. 'X60'\n",
       "15. 'C75'\n",
       "16. 'S26'\n",
       "\n",
       "\n"
      ],
      "text/plain": [
       " [1] \"C30\" \"X66\" \"X45\" \"C87\" \"S75\" \"S52\" \"R63\" \"C48\" \"S65\" \"X47\" \"R28\" \"C84\"\n",
       "[13] \"R31\" \"X60\" \"C75\" \"S26\""
      ]
     },
     "metadata": {},
     "output_type": "display_data"
    }
   ],
   "source": [
    "grep(\"^[\\\\$](5|6).[\\\\.].[02468]$\", df3$Price, value = TRUE)\n",
    "df3$Catalogue_number[grep(\"^[\\\\$](5|6).[\\\\.].[02468]$\", df3$Price)]"
   ]
  },
  {
   "cell_type": "markdown",
   "id": "6b26e2d2",
   "metadata": {},
   "source": [
    "4. Scenario 4: Items between $50-$70, and catalogue_number begin with R (reagent)"
   ]
  },
  {
   "cell_type": "code",
   "execution_count": 16,
   "id": "03082da2",
   "metadata": {},
   "outputs": [
    {
     "data": {
      "text/html": [
       "<style>\n",
       ".list-inline {list-style: none; margin:0; padding: 0}\n",
       ".list-inline>li {display: inline-block}\n",
       ".list-inline>li:not(:last-child)::after {content: \"\\00b7\"; padding: 0 .5ex}\n",
       "</style>\n",
       "<ol class=list-inline><li>'R66'</li><li>'R46'</li><li>'R63'</li><li>'R28'</li><li>'R52'</li><li>'R31'</li></ol>\n"
      ],
      "text/latex": [
       "\\begin{enumerate*}\n",
       "\\item 'R66'\n",
       "\\item 'R46'\n",
       "\\item 'R63'\n",
       "\\item 'R28'\n",
       "\\item 'R52'\n",
       "\\item 'R31'\n",
       "\\end{enumerate*}\n"
      ],
      "text/markdown": [
       "1. 'R66'\n",
       "2. 'R46'\n",
       "3. 'R63'\n",
       "4. 'R28'\n",
       "5. 'R52'\n",
       "6. 'R31'\n",
       "\n",
       "\n"
      ],
      "text/plain": [
       "[1] \"R66\" \"R46\" \"R63\" \"R28\" \"R52\" \"R31\""
      ]
     },
     "metadata": {},
     "output_type": "display_data"
    }
   ],
   "source": [
    "Catan_50_70 <- df3$Catalogue_number[grep(\"^[\\\\$](5|6).[\\\\.]\", df3$Price)]\n",
    "grep(\"^R\", Catan_50_70, value = TRUE)"
   ]
  },
  {
   "cell_type": "markdown",
   "id": "7c8b3619",
   "metadata": {},
   "source": [
    "Question 4: Sequencing primers\n",
    "You try to design a primer to target the 16S rRNA for some specific bacteria. Use R and regular expressions to solve the following questions. Please use Table 1: IUPAC ambiguous codes for codes like Y and M. You can import the data into R by using the following command"
   ]
  },
  {
   "cell_type": "markdown",
   "id": "a33a8804",
   "metadata": {},
   "source": [
    "1. You start with the common primer 515F, which targets the following region. How many bacteria can be targeted by this primer? (2 marks)\n",
    "                    GUGYCAGCMGCCGCGGUAA\n",
    "2. After you examine the results, you conclude that this primer doesn’t target the group of bacteria you want. Therefore, your labmate who work on the same group of bacteria give you a custom made primer set, which matches all the following\n",
    "                      AUAKWNNNWUGGG\n",
    "                      AUAKWNNNNNWUGGG\n",
    "How many bacteria can be targeted by this set of primers? (2 marks)\n",
    "3. After examining the results, this set of primers is very close to what you are looking for. You further refine this primer set so it only targets the following 3 combinations.\n",
    "                       AUAGAUGAUUGGG\n",
    "                       AUAUAAGACCUUGGG\n",
    "                       AUAUUGGACAAUGGG\n",
    "Use one regular expression, and without using . (dot matches everything), and find the sequence ID (beginning of each line) associated with these three primers only. (4 marks)"
   ]
  },
  {
   "cell_type": "code",
   "execution_count": 17,
   "id": "ca842936",
   "metadata": {},
   "outputs": [
    {
     "name": "stdout",
     "output_type": "stream",
     "text": [
      " chr [1:439] \">SEQ_529\\tAGAGUUUGAUCCUGGCUCAGGAUGAACGCUGGCGGCGUGCCUAAUACAUGCAAGUCGAGCGAAUGGAUUAAGAGCUUGCUCUUAUGAAGUUAGCGGCGGAC\"| __truncated__ ...\n"
     ]
    }
   ],
   "source": [
    "df4 <- readLines(\"/Users/danielkent/Desktop/Bioinformatics/Assignment1_data/data_16S_rRNA.fasta\")\n",
    "glimpse(df4) #read data"
   ]
  },
  {
   "cell_type": "markdown",
   "id": "b322e589",
   "metadata": {},
   "source": [
    "1. How many bacteria can be targeted by this primer?  GUGYCAGCMGCCGCGGUAA"
   ]
  },
  {
   "cell_type": "code",
   "execution_count": 18,
   "id": "483f07cd",
   "metadata": {},
   "outputs": [
    {
     "data": {
      "text/html": [],
      "text/latex": [],
      "text/markdown": [],
      "text/plain": [
       "character(0)"
      ]
     },
     "metadata": {},
     "output_type": "display_data"
    }
   ],
   "source": [
    "grep(\"(GUGYCAGCMGCCGCGGUAA)\", df4, value = TRUE)"
   ]
  },
  {
   "cell_type": "markdown",
   "id": "b2ba1b8b",
   "metadata": {},
   "source": [
    "0 let's see if the code is true"
   ]
  },
  {
   "cell_type": "code",
   "execution_count": 19,
   "id": "d5af0346",
   "metadata": {},
   "outputs": [
    {
     "data": {
      "text/html": [
       "'GUGYCAGCMGCCGCGGUAA'"
      ],
      "text/latex": [
       "'GUGYCAGCMGCCGCGGUAA'"
      ],
      "text/markdown": [
       "'GUGYCAGCMGCCGCGGUAA'"
      ],
      "text/plain": [
       "[1] \"GUGYCAGCMGCCGCGGUAA\""
      ]
     },
     "metadata": {},
     "output_type": "display_data"
    }
   ],
   "source": [
    "foura1 <- c(\"GUGYCAGCMGCCGCGGUAA\",\"GUGYACAGCMGCCGCGGUAA\") #checking code\n",
    "grep(\"(GUGYCAGCMGCCGCGGUAA)\", foura1, value = TRUE)"
   ]
  },
  {
   "cell_type": "markdown",
   "id": "7bcd4e01",
   "metadata": {},
   "source": [
    "2.How many bacteria can be targeted by this primer?  AUAKWNNNWUGGG , AUAKWNNNNNWUGGG"
   ]
  },
  {
   "cell_type": "code",
   "execution_count": 20,
   "id": "6f1c9354",
   "metadata": {},
   "outputs": [
    {
     "data": {
      "text/html": [],
      "text/latex": [],
      "text/markdown": [],
      "text/plain": [
       "character(0)"
      ]
     },
     "metadata": {},
     "output_type": "display_data"
    }
   ],
   "source": [
    "grep(\"(AUAKW)[N]{3,5}(WUGGG)$\", df4, value = TRUE)"
   ]
  },
  {
   "cell_type": "markdown",
   "id": "57d9717b",
   "metadata": {},
   "source": [
    "0 again the team mate have the same result as us let's see if the code is true"
   ]
  },
  {
   "cell_type": "code",
   "execution_count": 21,
   "id": "e2e3d771",
   "metadata": {},
   "outputs": [
    {
     "data": {
      "text/html": [
       "<style>\n",
       ".list-inline {list-style: none; margin:0; padding: 0}\n",
       ".list-inline>li {display: inline-block}\n",
       ".list-inline>li:not(:last-child)::after {content: \"\\00b7\"; padding: 0 .5ex}\n",
       "</style>\n",
       "<ol class=list-inline><li>'AUAKWNNNWUGGG'</li><li>'AUAKWNNNNNWUGGG'</li></ol>\n"
      ],
      "text/latex": [
       "\\begin{enumerate*}\n",
       "\\item 'AUAKWNNNWUGGG'\n",
       "\\item 'AUAKWNNNNNWUGGG'\n",
       "\\end{enumerate*}\n"
      ],
      "text/markdown": [
       "1. 'AUAKWNNNWUGGG'\n",
       "2. 'AUAKWNNNNNWUGGG'\n",
       "\n",
       "\n"
      ],
      "text/plain": [
       "[1] \"AUAKWNNNWUGGG\"   \"AUAKWNNNNNWUGGG\""
      ]
     },
     "metadata": {},
     "output_type": "display_data"
    }
   ],
   "source": [
    "foura2<- c(\"AUAKWNNNWUGGG\",\"AUAKWNNNNNWUGGG\",\"AUAKWNNNWUGGGG\",\"AUAKWNNNWUGGGN\")\n",
    "grep(\"(AUAKW)[N]{3,5}(WUGGG)$\", foura2, value = TRUE) #using {}"
   ]
  },
  {
   "cell_type": "markdown",
   "id": "0fd4896a",
   "metadata": {},
   "source": [
    "this set of primers is very close to what you are looking for AUAGAUGAUUGGG, AUAUAAGACCUUGGG, AUAUUGGACAAUGGG use 1 regular expression without using . (dot matches everything)"
   ]
  },
  {
   "cell_type": "code",
   "execution_count": 22,
   "id": "c811392d",
   "metadata": {},
   "outputs": [
    {
     "data": {
      "text/html": [
       "<style>\n",
       ".list-inline {list-style: none; margin:0; padding: 0}\n",
       ".list-inline>li {display: inline-block}\n",
       ".list-inline>li:not(:last-child)::after {content: \"\\00b7\"; padding: 0 .5ex}\n",
       "</style>\n",
       "<ol class=list-inline><li>'&gt;SEQ_7425\\tGGACGAACGCUGGCGGCGUGCCUAAUACAUGCAAGUCGAGCGAAUCAAUGGGAGCUUGCUCCCUGAGAUUAGCGGCGGACGGGUGAGUAACACGUGGGUAACCUGCCUGUAAGACUGGGAUAACUUCGGGAAACCGGAGCUAAUACCGGAUAGUUUCUUCUCUCGCAUGAGAGAAGAUGGAAAGAUGGUUUCGGCUAUCACUUACAGAUGGACCCGCGGCGCAUUAGCUAGUUGGUGAGGUAACGGCUCACCAAGGCGACGAUGCGUAGCCGACCUGAGAGGGUGAUCGGCCACACUGGGACUGAGACACGGCCCAGACUCCUACGGGAGGCAGCAGUAGGGAAUCUUCCGCAAUGGACGAAAGUCUGACGGAGCAACGCCGCGUGAGCGAAGAAGGCCUUCGGGUCGUAAAGCUCUGUUGUUAGGGAAGAACAAGUACGAGAGUAACUGCUCGUACCUUGACGGUACCUAACCAGAAAGCCACGGCUAACUACGUGCCAGCAGCCGCGGUAAUACGUAGGUGGCAAGCGUUGUCCGGAAUUAUUGGGCGUAAAGCGCGCGCAGGCGGUCCUUUAAGUCUGAUGUGAAAGCCCACGGCUCAACCGUGGAGGGUCAUUGGAAACUGGGGGACUUGAGUGCAGAAGAGGAGAGUGGAAUUCCACGUGUAGCGGUGAAAUGCGUAGAGAUGUGGAGGAACACCAGUGGCGAAGGCGACUCUCUGGUCUGUAACUGACGCUGAGGCGCGAAAGCGUGGGGAGCAAACAGGAUUAGAUACCCUGGUAGUCCACGCCGUANACGAUGAGUGCUAAGUGUUAGAGGGUUUCCGCCCUUUAGUGCUGCAGCUAACGCAUUAAGCACUCCGCCUGGGGAGUACGGCCGCAAGGCUGAAACUCAAAGGAAUUGACGGGGGCCCGCACAAGCGGUGGAGCAUGUGGUUUAAUUCGAAGCAACGCGAANGAACCUUACCAGGUCUUGACAUCCUCUGCCAANCCCUAGAGAUAGGGCGUUCCCCUUCGGGGGACAGAGUGACAGGUGGUGCAUGGGUGUCGUCAGCUCGUGUCGUGAGAUGUUGGGUUAAGUCCCGCAACGAGCGCAACCCUUGAUCUUAGUUGCCAGCAUUCAGUUGGGCACUCUAAGGUGACUGCCGGUGACAAACCGGAGGAAGGUGGGGAUGACGUCAAAUCAUCAUGCCCCUUAUGACCUGGGCUACACACGUGCUACAAUGGAUGGUACAAAGAGCUGCGAACCCGCGAGGGUAAGCNAAUCUCAUAAAGCCAUUCUCAGUUCGGAUUGUAGGCUGCAACUCGCCUACAUGAAGCCGGAAUCGCUAGUAAUCGCGGAUCAGCAUGCCGCGGUGAAUACGUUCCCGGGCCUUGUACACACCGCCCGUCACACCACGAGAGUUUGUAACACCCGAAGUCGGUGAGGUAACCUUUUGGAGCCAGCCGCCUAAGGUGGGAUAGAUGAUUGGGGUGAAGUCGUAACAAGGUAGCCGUAUCGGAAG'</li><li>'&gt;SEQ_6463\\tUGAGUUUGAUCUCUGGCUCAGGACGAACGCUGGCGGCGUGCCUAAUACAUGCAAGUCGAGCGGACUUUAAAAGCUUGCUUUUAAAGUUAGCGGCGGACGGGUGAGUAACACGUGGGCAACCUGCCUGUAAGACUGGGAUAACUUCGGGAAACCGGAGCUAAUACCGGAUAAUCCUUUUCCUCUCAUGAGGAAAAGCUGAAAGACGGUUUACGCUGUCACUUACAGAUGGGCCCGCGGCGCAUUAGCUAGUUGGUGAGGUAACGGCUCACCAAGGCGACGAUGCGUAGCCGACCUGAGAGGGUGAUCGGCCACACUGGGACUGAGACACGGCCCAGACUCCUACGGGAGGCAGCAGUAGGGAAUCUUCCGCAAUGGACGAAAGUCUGACGGAGCAACGCCGCGUGAGUGAUGAAGGUUUUCGGAUCGUAAAACUCUGUUGUUAGGGAAGAACAAGUACAAGAGUAACUGCUUGUACCUUGACGGUACCUAACCAGAAAGCCACGGCUAACUACGUGCCAGCAGCCGCGGUAAUACGUAGGUGGCAAGCGUUGUCCGGAAUUAUUGGGCGUAAAGCGCGCGCAGGCGGUCCUUUAAGUCUGAUGUGAAAGCCCACGGCUCAACCGUGGAGGGUCAUUGGAAACUGGGGGACUUGAGUGCAGAAGAGAAGAGUGGAAUUCCACGUGUAGCGGUGAAAUGCGUAGAGAUGUGGAGGAACACCAGUGGCGAAGGCGACUCUUUGGUCUGUAACUGACGCUGAGGCGCGAAAGCGUGGGGAGCAAACAGGAUUAGAUACCCUGGUAGUCCACGCCGUAAACGAUGAGUGCUAAGUGUUAGAGGGUUUCCGCCCUUUAGUGCUGCAGCAAACGCAUUAAGCACUCCGCCUGGGGAGUACGGCCGCAAGGCUGAAACUCAAAGGAAUUGACGGGGGCCCGCACAAGCGGUGGAGCAUGUGGUUUAAUUCGAAGCAACGCGAAGAACCUUACCAGGUCUUGACAUCCUCUGACACUCCUAGAGAUAGGACGUUCCCCUUCGGGGGACAGAGUGACAGGUGGUGCAUGGUUGUCGUCAGCUCGUGUCGUGAGAUGUUGGGUUAAGUCCCGCAACGAGCGCAACCCUUGAUCUUAGUUGCCAGCAUUCAGUUGGGCACUCUAAGGUGACUGCCGGUGACAAACCGGAGGAAGGUGGGGAUGACGUCAAAUCAUCAUGCCCCUUAUGACCUGGGCUACACACGUGCUACAAUGGAUGGUACAAAGGGCAGCAAAACCGCGAGGUCGAGCAAAUCCCAUAAAACCAUUCUCAGUUCGGAUUGUAGGCUGCAACUCGCCUACAUGAAGCUGGAAUCGCUAGUAAUCGCGGAUCAGCAUGCCGCGGUGAAUACGUUCCCGGGCCUUGUACACACCGCCCGUCACACCACGAGAGUUUGUAACACCCGAAGUCGGUGGGGUAACCUUUUGGAGCCAGCCGCCUAAGGUGGGAUAGAUGAUUGGGGUGAAGUCGUAACAAGGUAACA'</li><li>'&gt;SEQ_9350\\tGGAUCCAACGGAGAGUUUGAUUCUGGCUCAGGACGAACGCUGGCGGCGUGCCUAAUACAUGCAAGUCGAGCGGACAGAUGGGAGCUUGCUCCCUGAUGUUAGCGGCGGACGGGUGAGUAACACGUGGGUAACCUGCCUGUAAGACUGGGAUAACUCCGGGAAACCGGGGCUAAUACCGGAUGGUUGUUUGAACCGCAUGGUUCAAACAUAAAAGGUGGCUUCGGCUACCAUUUACAGAUGGACCCGCGGCGCAUUAGCUAGUUGGUGAGGUAACGGCUCACCAAGGCGACGAUGCGUAGCCGACCUGAGAGGGUGAUCGGCCACACUGGGACUGAGACACGGCCCAGACUCCUACGGGAGGCAGCAGUAGGGAAUCUUCCGCAAUGGACGAAAGUCUGACGGAGCAACGCCGCGUGAGUGAUGAAGGUUUUCGGAUCGUAAAGCUCUGUUGUUAGGGAAGAACAAGUACCGUUCGAAUAGGGCGGUGCCUUGACGGUACCUAACCAGAAAGCCACGGCUAACUACGUGCCAGCAGCCGCGGUAAUACGUAGGUGGCAAGCGUUGUCCGGAAUUAUUGGGCGUAAAGGGCUCGCAGGCGGUUUCUUAAGUCUGAUGUGAAAGCCCCCGGCUCAACCGGGGAGGGUCAUUGGAAACUGGGGAACUUGAGUGCAGAAGAGGAGAGUGGAAUUCCACGUGUAGCGGUGAAAUGCGUAGAGAUGUGGAGGAACACCAGUGGCGAAGGCGACUCUCUGGUCUGUAACUGACGCUGAGGAGCGAAAGCGUGGGGAGCGAACAGGAUUAGAUACCCUGGUAGUCCACGCCGUAAACGAUGAGUGCUAAGUGUUAGGGGGUUUCCGCCCCUUAGUGCUGCAGCUAACGCAUUAAGCACUCCGCCUGGGGAGUACGGUCGCAAGACUGAAACUCAAAGGAAUUGACGGGGGCCCGCACAAGCGGUGGAGCAUGUGGUUUAAUUCGAAGCAACGCGAAGAACCUUACCAGGUCUUGACAUCCUCUGACAAUCCUAGAGAUAGGACGUCCCCUUCGGGGGCAGAGUGACAGGUGGUGCAUGGUUGUCGUCAGCUCGUGUCGUGAGAUGUUGGGUUAAGUCCCGCAACGAGCGCAACCCUUGAUCUUAGUUGCCAGCAUUCAGUUGGGCACUCUAAGGUGACUGCCGGUGACAAACCGCAGGAAGGUGGGGAUGACGUCAAAUCAUCAUGCCCCUUAUGACCUGGGCUACACACGUGCUACAAUGGACAGAACAAAGGGUAGCGAAACCGCGAGGUUAAGCCAAUCCCACAAAUCUGUUCUCAGUUCGGAUCGCAGUCUGCAACUCGGACUGCGUGAAGCUGGAAUCGCUAGUAAUCGCGGAUCAGCAUGCCGCGGUGAAUACGUUCCCGGGCCUUGUACACACCGCCCGUCACACCACGAGAGUUUGUAACACCCGAAGUCGGUGAGGUAACCUUUUAGGAGCCAGCCGCCGAAGGUGGGACAGAUGAUUGGGGUGAAGUCGUAACAAGGUAGCCGUAUCGGAAGGUGCGGCUGGAUCACCUCCUUUCUAAGGAUAUUAUACGGAAUAUAAGACCUUGGGGCUUAUAAACAGAACGUUCCCUGUCUUGUUUAGUUUUGA'</li><li>'&gt;SEQ_7726\\tCGGGUGAGUAACACGUAGGCAACCUGCCUGUAAGACGGGGAUAACUCCGGGAAACCGGAGCUAAUACCGGAUAAUCCUUUAGCUCGCAUGAGCUGAAGUUGAAAGGUGGCGCAAGCUACCACUUACAGAUGGGCCUGCGGCGCAUUAGCUAGUUGGUGAGGUAACGGCUCACCAAGGCGACGAUGCGUAGCCGACCUGAGAGGGUGAUCGGCCACACUGGGACUGAGACACGGCCCAGACUCCUACGGGAGGCAGCAGUAGGGAAUCUUCGGCAAUGGACGAAAGUCUGACCGAGCAACGCCGCGUGAGUGAAGAAGGUUUUCGGAUUGUAAAACUCUGUUGUUAGGGAAGAACAAGUACCGUUUGAAUAAGNCGGUACCUUGACGGUACCUAACGAGAAAGCCCCGGCUAACUACGUGCCAGCAGCCGCGGUAAUACGUAGGGGGCAAGCGUUGUCCGGAAUUAUUGGGCGUAAAGCGCGCGCAGGCGGUUUCUUAAGUCUGAUGUGAAAGCCCACGGCUCAACCGUGGAGGGUCAUUGGAAACUGGGAGACUUGAGUGUAGGAGAGGAAAGCGGAAUUCCACGUGUAGCGGUGAAAUGCGUAGAGAUGUGGAGGAACACCAGUGGCGAAGGCGGCUUUCUGGCCUAUAACUGACGCUGAGGCGCGAAAGCGUGGGGAGCAAACAGGAUUAGAUACCCUGGUAGUCCACGCCGUAAACGAUGAGUGCUAGGUGUUAGGGGUUUCGAUACCCUUAGUGCCGACGUUAACACAAUAAGCACUCCGCCUGGGGAGUACGGCCGCAAGGCUGAAACUCAAAGGAAUUGACGGGGACCCGCACAAGCAGUGGAGCAUGUGGUUUAAUUCGAAGCAACGCGAAGAACCUUACCAGGACUUGACAUCCUUUGACACCCCUAGAGAUAGGGCUUCCCCUUCGGGGGCAAAGUGACAGGUGGUGCAUGGUUGUCGUCAGCUCGUGUCGUGAGAUGUUGGGUUAAGUCCCGCAACGAGCGCAACCCUUAAUCUUAGUUGCCAGCAUUNAGUUGGGCACUCUAAGGUGACUGCCGGUGACAAACCGGAGGAAGGUGGGGAUGACGUCAAAUCAUCAUGCCCCUUAUGUCCUGGGCUACACACGUGCUACAAUGGGCAGUACAAAGGGUAGCGAAGCCGCGAGGUGGAGCCAAUCCCAUAAAGCUGCUCUCAGUUCGGAUUGCAGGCUGCAACUCGCCUGCAUGAAGCCGGAAUUGCUAGUAAUCGCGGAUCAGCAUGCCGCGGUGAAUACGUUCCCGGGUCUUGUACACACCGCCCGUCACACCACGAGAGUUUGUAACACCCGAAGUCGGUGAGGUAACCUUUUUGGAGCCAGCUGCCUAAGGUGGGAUAGAUGAUUGGGGUGAAGUCGUAACAAGGUA'</li><li>'&gt;SEQ_6498\\tAACGCUGGCGGCAGGCCUAACACAUGCAAGUCGAGCGGAUGAAGGGAGCUUGCUUCUGGAUUCAGCGGCGGACGGGUGAGUAAUGCCUAGGAAUCUGCCUGGUAGUGGGGGACAACGUUCCGAAAGGAGCGCUAAUACCGCAUACGUCCUACGGGAGAAAGUGGGGGAUCUUCGGACCUCACGCUAUCAGAUGAGCCUAGGUCGGAUUAGCUAGUAGGUGGGGUAAUGGCUCACCUAGGCGACGAUCCGUAACUGGUCUGAGAGGAUGAUCAGUCACACUGGAACUGAGACACGGUCCAGACUCCUACGGGAGGCAGCAGUGGGGAAUAUUGGACAAUGGGCGAAAGCCUGAUCCAGCCAUGCCGCGUGUGUGAAGAAGGUCUUCGGAUUGUAAAGCACUUUAAGUUGGGAGGAAGGGCAGUAAGUUAAUACCUUGCUGUUUUGACGUUACCAACAGAAUAAGCACCGGCUAACUUCGUGCCAGCAGCCGCGGUAAUACGAAGGGUGCAAGCGUUAAUCGGAAUUACUGGGCGUAAAGCGCGCGUAGGUGGUUUGGUAAGAUGGAUGUGAAAUCCCCGGGCUCAACCUGGGAACUGCAUCCAUAACUGCCUGACUAGAGUACGGUAGAGGGUGGUGGAAUUUCCUGUGUAGCGGUGAAAUGCGUAGAUAUAGGAAGGAACACCAGUGGCGAAGGCGACCACCUGGACUGAUACUGACACUGAGGUGCGAAAGCGUGGGGAGCAAACAGGAUUAGAUACCCUGGUNGUCCACGCCGUAAACGAUGUCGACUAGCCGUUGGGAUCCUUGAGAUCUUAGUGGCGCANNUAACGCGAUAAGUCGACCGCCUGGGGAGUACGGCCGCAAGGUUAAAACUCAAAUGAAUUGACGGGGGCCCGCACAAGCGGUGGAGCAUGUGGUUUAAUUCGAAGCAACGCGAAGAACCUUACCUGGCCUUGACAUGUCCGGAAUUCUGCAGAGAUGCGGGAGUGCCUUCGGGAAUCGGAACACAGGUGCUGCAUGGCUGUCGUCAGCUCGUGUCGUGAGAUGUUGGGUUAAGUCCCGUAACGAGCGCAACCCUUGUCCUUAGUUACCAGCACGUUAUGGUGGGCACUCUAAGGAGACUGCCGGUNACAAACCGGAGGAAGGUGGGGAUGACGUCAAGUCAUCAUGGCCCUUACGGCCAGGGCUACACACGUGCUACAAUGGUCGGUACAGAGGGUUGCCAAGCCGCGAGGUGGAGCUAAUCCCAGAAAACCGAUCGUAGUCCGGAUCGCAGUCUGCAACUCGACUGCGUGAAGUCGGAAUCGCUAGUAAUCGUGAAUCAGAAUGUCACGGUGAAUACGUUCCCGGGCCUUGUACACACCGCCCGUCACACCAUGGGAGUGGGUUGCUCCAGAAGUAGCUAGUCUAACCGCAAGGGGGACGGUUACCACGGAGUGAUUCAUGACUGGGGUGAAGUCGUAACAAGGUAGCCGUAGGGGAACCUGCGGCUGGAUCAC'</li><li>'&gt;SEQ_4614\\tAUUGAACGCUGGCGGCAGGCCUAACACAUGCAAGUCGAGCGGAUGACGGGAGCUUGCUCCUUGAUUCAGCGGCGGACGGGUGAGUAAUGCCUAGGAAUCUGCCUGGUAGUGGGGGACAACGUUUCGAAAGGAACGCUAAUACCGCAUACGUCCUACGGGAGAAAGCAGGGGACCUUCGGGCCUUGCGCUAUCAGAUGAGCCUAGGUCGGAUUAGCUAGUUGGUGGGGUAAUGGCUCACCAAGGCGACGAUCCGUAACUGGUCUGAGAGGAUGAUCAGUCACACUGGAACUGAGACACGGUCCAGACUCCUACGGGAGGCAGCAGUGGGGAAUAUUGGACAAUGGGCGAAAGCCUGAUCCAGCCAUGCCGCGUGUGUGAAGAAGGUCUUCGGAUUGUAAAGCACUUUAAGUUGGGAGGAAGGGCAGUAAGUUAAUACCUUGCUGUUUUGACGUUACCGACAGAAUAAGCACCGGCUAACUCUGUGCCAGCAGCCGCGGUAAUACAGAGGGUGCAAGCGUUAAUCGGAAUUACUGGGCGUAAAGCGCGCGUAGGUGGUUCGUUAAGUUGGAUGUGAAAGCCCCGGGCUCAACCUGGGAACUGCAUCCAAAACUGGCGAGCUAGAGUACGGUAGAGGGUGGUGGAAUUUCCUGUGUAGCGGUGAAAUGCGUAGAUAUAGGAAGGAACACCAGUGGCGAAGGCGACCACCUGGACUGAUACUGACACUGAGGUGCGAAAGCGUGGGGAGCAAACAGGAUUAGAUACCCUGGUAGUCCACGCCGUAAACGAUGUCAACUAGCCGUUGGAAUCCUUGAGAUUUUAGUGGCGCANCUAACGCAUUAAGUUGACCGCCUGGGGAGUACGGCCGCAAGGUUAAAACUCNNAUGAAUUGACGGGGGCCCGCACAAGCGGUGGAGCAUGUGGUUUAAUUCGAAGCAACGCGAAGAACCUUACCAGGCCUUGACAUGCAGAGAACUUUCCAGAGAUGGAUUGGUGCCUUCGGGAACUCUGACACAGGUGCUGCAUGGCUGUCGUCAGCUCGUGUCGUGAGAUGUUGGGUUAAGUCCCGUAACGAGCGCAACCCUUGUCCUUAGUUACCAGCACGUAAUGGUGGGCACUCUAAGGAGACUGCCGGUGACAAACCGGAGGAAGGUGGGGAUGACGUCAAGUCAUCAUGGCCCUUACGGCCUGGGCUACACACGUGCUACAAUGGUCGGUACAGAGGGUUGCCAAGCCGCGAGGUGGAGCUAAUCUCACAAAACCGAUCGUAGUCCGGAUCGCAGUCUGCAACUCGACUGCGUGAAGUCGGAAUCGCUAGUAAUCGCGAAUCAGAAUGUCGCGGUGAAUACGUUCCCGGGCCUUGUACACACCGCCCGUCACACCAUGGGAGUGGGUUGCACCAGAAGUNNNNAGUCUAACCUUCGGGAGGACGGUUACNACGGUGUGAUUCAUGACUGGGGUGAAGUCGUAACAAGGUAGCCGUAGGGGAACCUGCGGCUGGAUCAC'</li><li>'&gt;SEQ_6262\\tAGUUUGAUCCUGGCUCAGAUUGAACGCUGGCGGCAGGCCUAACACAUGCAAGUCGAGCGGAUGAAGGGAGCUUGCUCCUGGAUUCAGCGGCGGACGGGUGAGUAAUGCCUAGGAAUCUGCCUGGUAGUGGGGGAUAACGUCCGGAAACGGGCGCUAAUACCGCAUACGUCCUGAGGGAGAAAGUGGGGGAUCUUCGGACCUCACGCUAUCAGAUGAGCCUAGGUCGGAUUAGCUAGUUGGUGGGGUAAAGGCCUACCAAGGCGACGAUCCGUAACUGGUCUGAGAGGAUGAUCAGUCACACUGGAACUGAGACACGGUCCAGACUCCUACGGGAGGCAGCAGUGGGGAAUAUUGGACAAUGGGCGAAAGCCUGAUCCAGCCAUGCCGCGUGUGUGAAGAAGGUCUUCGGAUUGUAAAGCACUUUAAGUUGGGAGGAAGGGCAGUAAGUUAAUACCUUGCUGUUUUGACGUUACCAACAGAAUAAGCACCGGCUAACUUCGUGCCAGCAGCCGCGGUAAUACGAAGGGUGCAAGCGUUAAUCGGAAUUACUGGGCGUAAAGCGCGCGUAGGUGGUUCAGCAAGUUGGAUGUGAAAUCCCCGGGCUCAACCUGGGAACUGCAUCCAAAACUACUGAGCUAGAGUACGGUAGAGGGUGGUGGAAUUUCCUGUGUAGCGGUGAAAUGCGUAGAUAUAGGAAGGAACACCAGUGGCGAAGGCGACCACCUGGACUGAUACUGACACUGAGGUGCGAAAGCGUGGGGAGCAAACAGGAUUAGAUACCCUGGUAGUCCACGCCGUAAACGAUGUCGACUAGCCGUUGGGAUCCUUGAGAUCUUAGUGGCGCNNNUAACGCGAUAAGUCGACCGCCUGGGGAGUACGGCCGCAAGGUUAAAACUCAAAUGAAUUGACGGGGGCCCGCACAAGCGGUGGAGCAUGUGGUUUAAUUCGAAGCAACGCGAAGAACCUUACCUGGCCUUGACAUGCUGAGAACUUUCCAGAGAUGGAUUGGUGCCUUCGGGAACUCAGACACAGGUGCUGCAUGGCUGUCGUCAGCUCGUGUCGUGAGAUGUUGGGUUAAGUCCCGUAACGAGCGCAACCCUUGUCCUUAGUUACCAGCACCUCGGGUGGGCACUCUAAGGAGACUGCCGGUGACAAACCGGAGGAAGGUGGGGAUGACGUCAAGUCAUCAUGGCCCUUACGGCCAGGGCUACACACGUGCUACAAUGGUCGGUACAAAGGGUUGCCAAGCCGCGAGGUGGAGCUAAUCCCAUAAAACCGAUCGUAGUCCGGAUCGCAGUCUGCAACUCGACUGCGUGAAGUCGGAAUCGCUAGUAAUCGUGAAUCAGAAUGUCACGGUGAAUACGUUCCCGGGCCUUGUACACACCGCCCGUCACACCAUGGGAGUGGGUUGCUCCAGAAGUAGCUAGUCUAACCGCAAGGGGGACGGUUACCACGGAGUAUUUCAUGACUGGGGUGAAGUCGUAACAAGGUAGCCGUAGGGGAACCUGCGGCUGGAUCACCUCCUU'</li><li>'&gt;SEQ_2652\\tAGUUUGAUCCUGGCUCAGAUUGAACGCUGGCGGCAGGCCUAACACAUGCAAGUCGAGCGGAUGAAGGGAGCUUGCUCCUGGAUUCAGCGGCGGACGGGUGAGUAAUGCCUAGGAAUCUGCCUGGUAGUGGGGGAUAACGUCCGGAAACGGGCGCUAAUACCGCAUACGUCCUGAGGGAGAAAGUGGGGGAUCUUCGGACCUCACGCUAUCAGAUGAGCCUAGGUCGGAUUAGCUAGUUGGUGGGGUAAAGGCCUACCAAGGCGACGAUCCGUAACUGGUCUGAGAGGAUGAUCAGUCACACUGGAACUGAGACACGGUCCAGACUCCUACGGGAGGCAGCAGUGGGGAAUAUUGGACAAUGGGCGAAANNCUGAUCCAGCCAUGCCGCGUGUGUGAAGAAGGUCUUCGGAUUGUAAAGCACUUUAAGUUGGGAGGAAGGGCAGUAAGUUAAUACCUUGCUGUUUUGACGUUACCAACAGAAUAAGCACCGGCUAACUUCGUGCCAGCAGCCGCGGUAAUACGAAGGGUGCAAGCGUUAAUCGGAAUUACUGGGCGUAAAGCGCGCGUAGGUGGUUCAGCAAGUUGGAUGUGAAAUCCCCGGGCUCAACCUGGGAACUGCAUCCAAAACUACUGAGCUAGAGUACGGUAGAGGGUGGUGGAAUUUCCUGUGUAGCGGUGAAAUGCGUAGAUAUAGGAAGGAACACCAGUGGCGAAGGCGACCACCUGGACUGAUACUGACACUGAGGUGCGAAAGCGUGGGGAGCAAACAGGAUUAGAUACCCUGGUAGUCCACGCCGUAAACGAUGUCGACUAGCCGUUGGGAUCCUUGAGAUCUUAGUGGCGCAGNNNACGCGAUAAGUCGACCGCCUGGGGAGUACGGCCGCAAGGUUAAAACUCAAAUGAAUUGACGGGGGCCCGCACAAGCGGUGGAGCAUGUGGUUUAAUUCGAAGCAACGCGAAGAACCUUACCUGGCCUUGACAUGCUGAGAACUUUCCAGAGAUGGAUUGGUGCCUUCGGGAACUCAGACACAGGUGCUGCAUGGCUGUCGUCAGCUCGUGUCGUGAGAUGUUGGGUUAAGUCCCGUAACGAGCGCAACCCUUGUCCUUAGUUACCAGCACCUCGGGUGGGCACUCUAAGGAGACUGCCGGUGACAAACCGGAGGAAGGUGGGGAUGACGUCAAGUCAUCAUGGCCCUUACGGCCAGGGCUACACACGUGCUACAAUGGUCGGUACAAAGGGUUGCCAAGCCGCGAGGUGGAGCUAAUCCCAUAAAACCGAUCGUAGUCCGGAUCGCAGUCUGCAACUCGACUGCGUGAAGUCGGAAUCGCUAGUAAUCGUGAAUCAGAAUGUCACGGUGAAUACGUUCCCGGGCCUUGUACACACCGCCCGUCACACCAUGGGAGUGGGUUGCUCCAGAAGUAGCUAGUCUAACCGCAAGGGGGACGGUUACCACGGAGUNAUUCAUGACUGGGGUGAAGUCGUAACAAGGUAGCCGUAGGGGAACCUGCGGCUGGAUCACCUCCUU'</li><li>'&gt;SEQ_7407\\tAGUUUGAUCCUGGCUCAGAUUGAACGCUGGCGGCAGGCCUAACACAUGCAAGUCGAGCGGAUGAAGGGAGCUUGCUCCUGGAUUCAGCGGCGGACGGGUGAGUAAUGCCUAGGAAUCUGCCUGGUAGUGGGGGAUAACGUCCGGAAACGGGCGCUAAUACCGCAUACGUCCUGAGGGAGAAAGUGGGGGAUCUUCGGACCUCACGCUAUCAGAUGAGCCUAGGUCGGAUUAGCUAGUUGGUGGGGUAAAGGCCUACCAAGGCGCCGAUCCGUAACUGGUCUGAGAGGAUGAUCAGUCACACUGGAACUGAGACACGGUCCAGACUCCUACGGGAAGCAGCAGUGGGGAAUAUUGGACAAUGGGCGAAANNNUGAUCCAGCCAUGCCGCGUGUGUGAAGAAGGUCUUCGGAUUGUAAAGCACUUUAAGUUGGGAGGAAGGGCAGUAAGUUAAUACCUUGCUGUUUUGACGUUACCAACAGAAUAAGCACCGGCUAACUUCGUGCCAGCAGCCGCGGUAAUACGAAGGGUGCAAGCGUUAAUCGGAAUUACUGGGCGUAAAGCGCGCGUAGGUGGUUCAGCAAGUUGGAUGUGAAAUCCCCGGGCUCAACCUGGGAACUGCAUCCAAAACUACUGAGCUAGAGUACGGUAGAGGGUGGUGGAAUUUCCUGUGUAGCGGUGAAAUGCGUAGAUAUAGGAAGGAACACCAGUGGCGAAGGCGACCACCUGGACUGAUACUGACACUGAGGUGCGAAAGCGUGGGGAGCAAACAGGAUUAGAUACCCUGGUAGUCCACGCCGUAAACGAUGUCGACUAGCCGUUGGGAUCCUUGAGAUCUUAGUGGCGCNNNUAACGCGAUAAGUCGACCGCCUGGGGAGUACGGCCGCAAGGUUAAAACUCAAAUGAAUUGACGGGGGCCCGCACAAGCGGUGGAGCAUGUGGUUUAAUUCGAAGCAACGCGAAGAACCUUACCUGGCCUUGACAUGCUGAGAACUUUCCAGAGAUGGAUUGGUGCCUUCGGGAACUCAGACACAGGUGCUGCAUGGCUGUCGUCAGCUCGUGUCGUGAGAUGUUGGGUUAAGUCCCGUAACGAGCGCAACCCUUGUCCUUAGUUACCAGCACCUCGGGUGGGCACUCUAAGGAGACUGCCGGUGACAAACCGGAGGAAGGUGGGGAUGACGUCAAGUCAUCAUGGCCCUUACGGCCAGGGCUACACACGUGCUACAAUGGUCGGUACAAAGGGUUGCCAAGCCGCGAGGUGGAGCUAAUCCCAUAAAACCGAUCGUAGUCCGGAUCGCAGUCUGCAACUCGACUGCGUGAAGUCGGAAUCGCUAGUAAUCGUGAAUCAGAAUGUCACGGUGAAUACGUUCCCGGGCCUUGUACACACCGCCCGUCACACCAUGGGAGUGGGUUGCUCCAGAAGUAGCUAGUCUAACCGCAAGGGGGACGGUUACCACGGAGUNAUUCAUGACUGGGGUGAAGUCGUAACAAGGUAGCCGUAGGGGAACCUGCGGCUGGAUCACCUCCUU'</li><li>'&gt;SEQ_7472\\tAGUUUGAUCCUGGCUCAGAUUGAACGCUGGCGGCAGGCCUAACACAUGCAAGUCGAGCGGAUGAAGGGAGCUUGCUCCUGGAUUCAGCGGCGGACGGGUGAGUAAUGCCUAGGAAUCUGCCUGGUAGUGGGGGAUAACGUCCGGAAACGGGCGCUAAUACCGCAUACGUCCUGAGGGAGAAAGUGGGGGAUCUUCGGACCUCACGCUAUCAGAUGAGCCUAGGUCGGAUUAGCUAGUUGGUGGGGUAAAGGCCUACCAAGGCGACGAUCCGUAACUGGUCUGAGAGGAUGAUCAGUCACACUGGAACUGAGACACGGUCCAGACUCCUACGGGAGGCAGCAGUGGGGAAUAUUGGACAAUGGGCGAAANNNUGAUCCAGCCAUGCCGCGUGUGUGAAGAAGGUCUUCGGAUUGUAAAGCACUUUAAGUUGGGAGGAAGGGCAGUAAGUUAAUACCUUGCUGUUUUGACGUUACCAACAGAAUAAGCACCGGCUAACUUCGUGCCAGCAGCCGCGGUAAUACGAAGGGUGCAAGCGUUAAUCGGAAUUACUGGGCGUAAAGCGCGCGUAGGUGGUUCAGCAAGUUGGAUGUGAAAUCCCCGGGCUCAACCUGGGAACUGCAUCCAAAACUACUGAGCUAGAGUACGGUAGAGGGUGGUGGAAUUUCCUGUGUAGCGGUGAAAUGCGUAGAUAUAGGAAGGAACACCAGUGGCGAAGGCGACCACCUGGACUGAUACUGACACUGAGGUGCGAAAGCGUGGGGAGCAAACAGGAUUAGAUACCCUGGUAGUCCACGCCGUAAACGAUGUCGACUAGCCGUUGGGAUCCUUGAGAUCUUAGUGGCGCNNNNAACGCGAUAAGUCGACCGCCUGGGGAGUACGGCCGCAAGGUUAAAACUCAAAUGAAUUGACGGGGGCCCGCACAAGCGGUGGAGCAUGUGGUUUAAUUCGAAGCAACGCGAAGAACCUUACCUGGCCUUGACAUGCUGAGAACUUUCCAGAGAUGGAUUGGUGCCUUCGGGAACUCAGACACAGGUGCUGCAUGGCUGUCGUCAGCUCGUGUCGUGAGAUGUUGGGUUAAGUCCCGUAACGAGCGCAACCCUUGUCCUUAGUUACCAGCACCUCGGGUGGGCACUCUAAGGAGACUGCCGGUGACAAACCGGAGGAAGGUGGGGAUGACGUCAAGUCAUCAUGGCCCUUACGGCCAGGGCUACACACGUGCUACAAUGGUCGGUACAAAGGGUUGCCAAGCCGCGAGGUGGAGCUAAUCCCAUAAAACCGAUCGUAGUCCGGAUCGCAGUCUGCAACUCGACUGCGUGAAGUCGGAAUCGCUAGUAAUCGUGAAUCAGAAUGUCACGGUGAAUACGUUCCCGGGCCUUGUACACACCGCCCGUCACACCAUGGGAGUGGGUUGCUCCAGAAGUAGCUAGUCUAACCGCAAGGGGGACGGUUACCACGGAGUNAUUCAUGACUGGGGUGAAGUCGUAACAAGGUAGCCGUAGGGGAACCUGCGGCUGGAUCACCUCCUU'</li><li>'&gt;SEQ_3121\\tAGUUUGAUCCUGGCUCAGAUUGAACGCUGGCGGCAGGCCUAACACAUGCAAGUCGAGCGGAUGAAGGGAGCUUGCUCCUGGAUUCAGCGGCGGACGGGUGAGUAAUGCCUAGGAAUCUGCCUGGUAGUGGGGGAUAACGUCCGGAAACGGGCGCUAAUACCGCAUACGUCCUGAGGGAGAAAGUGGGGGAUCUUCGGACCUCACGCUAUCAGAUGAGCCUAGGUCGGAUUAGCUAGUUGGUGGGGUAAAGGCCUACCAAGGCGACGAUCCGUAACUGGUCUGAGAGGAUGAUCAGUCACACUGGAACUGAGACACGGUCCAGACUCCUACGGGAGGCAGCAGUGGGGAAUAUUGGACAAUGGGCGAAAGCCUGAUCCAGCCAUGCCGCGUGUGUGAAGAAGGUCUUCGGAUUGUAAAGCACUUUAAGUUGGGAGGAAGGGCAGUAAGUUAAUACCUUGCUGUUUUGACGUUACCAACAGAAUAAGCACCGGCUAACUUCGUGCCAGCAGCCGCGGUAAUACGAAGGGUGCAAGCGUUAAUCGGAAUUACUGGGCGUAAAGCGCGCGUAGGUGGUUCAGCAAGUUGGAUGUGAAAUCCCCGGGCUCAACCUGGGAACUGCAUCCAAAACUACUGAGCUAGAGUACGGUAGAGGGUGGUGGAAUUUCCUGUGUAGCGGUGAAAUGCGUAGAUAUAGGAAGGAACACCAGUGGCGAAGGCGACCACCUGGACUGAUACUGACACUGAGGUGCGAAAGCGUGGGGAGCAAACAGGAUUAGAUACCCUGGUAGUCCACGCCGUAAACGAUGUCGACUAGCCGUUGGGAUCCUUGAGAUCUUAGUGGCGCANNNAACGCGAUAAGUCGACCGCCUGGGGAGUACGGCCGCAAGGUUAAAACUCAAAUGAAUUGACGGGGGCCCGCACAAGCGGUGGAGCAUGUGGUUUAAUUCGAAGCAACGCGAAGAACCUUACCUGGCCUUGACAUGCUGAGAACUUUCCAGAGAUGGAUUGGUGCCUUCGGGAACUCAGACACAGGUGCUGCAUGGCUGUCGUCAGCUCGUGUCGUGAGAUGUUGGGUUAAGUCCCGUAACGAGCGCAACCCUUGUCCUUAGUUACCAGCACCUCGGGUGGGCACUCUAAGGAGACUGCCGGUGACAAACCGGAGGAAGGUGGGGAUGACGUCAAGUCAUCAUGGCCCUUACGGCCAGGGCUACACACGUGCUACAAUGGUCGGUACAAAGGGUUGCCAAGCCGCGAGGUGGAGCUAAUCCCAUAAAACCGAUCGUAGUCCGGAUCGCAGUCUGCAACUCGACUGCGUGAAGUCGGAAUCGCUAGUAAUCGUGAAUCAGAAUGUCACGGUGAAUACGUUCCCGGGCCUUGUACACACCGCCCGUCACACCAUGGGAGUGGGUUGCUCCAGAAGUAGCUAGUCUAACCGCAAGGGGGACGGUUACCACGGAGUNAUUCAUGACUGGGGUGAAGUCGUAACAAGGUAGCCGUAGGGGAACCUGCGGCUGGAUCACCUCCUU'</li></ol>\n"
      ],
      "text/latex": [
       "\\begin{enumerate*}\n",
       "\\item '>SEQ\\_7425\\textbackslash{}tGGACGAACGCUGGCGGCGUGCCUAAUACAUGCAAGUCGAGCGAAUCAAUGGGAGCUUGCUCCCUGAGAUUAGCGGCGGACGGGUGAGUAACACGUGGGUAACCUGCCUGUAAGACUGGGAUAACUUCGGGAAACCGGAGCUAAUACCGGAUAGUUUCUUCUCUCGCAUGAGAGAAGAUGGAAAGAUGGUUUCGGCUAUCACUUACAGAUGGACCCGCGGCGCAUUAGCUAGUUGGUGAGGUAACGGCUCACCAAGGCGACGAUGCGUAGCCGACCUGAGAGGGUGAUCGGCCACACUGGGACUGAGACACGGCCCAGACUCCUACGGGAGGCAGCAGUAGGGAAUCUUCCGCAAUGGACGAAAGUCUGACGGAGCAACGCCGCGUGAGCGAAGAAGGCCUUCGGGUCGUAAAGCUCUGUUGUUAGGGAAGAACAAGUACGAGAGUAACUGCUCGUACCUUGACGGUACCUAACCAGAAAGCCACGGCUAACUACGUGCCAGCAGCCGCGGUAAUACGUAGGUGGCAAGCGUUGUCCGGAAUUAUUGGGCGUAAAGCGCGCGCAGGCGGUCCUUUAAGUCUGAUGUGAAAGCCCACGGCUCAACCGUGGAGGGUCAUUGGAAACUGGGGGACUUGAGUGCAGAAGAGGAGAGUGGAAUUCCACGUGUAGCGGUGAAAUGCGUAGAGAUGUGGAGGAACACCAGUGGCGAAGGCGACUCUCUGGUCUGUAACUGACGCUGAGGCGCGAAAGCGUGGGGAGCAAACAGGAUUAGAUACCCUGGUAGUCCACGCCGUANACGAUGAGUGCUAAGUGUUAGAGGGUUUCCGCCCUUUAGUGCUGCAGCUAACGCAUUAAGCACUCCGCCUGGGGAGUACGGCCGCAAGGCUGAAACUCAAAGGAAUUGACGGGGGCCCGCACAAGCGGUGGAGCAUGUGGUUUAAUUCGAAGCAACGCGAANGAACCUUACCAGGUCUUGACAUCCUCUGCCAANCCCUAGAGAUAGGGCGUUCCCCUUCGGGGGACAGAGUGACAGGUGGUGCAUGGGUGUCGUCAGCUCGUGUCGUGAGAUGUUGGGUUAAGUCCCGCAACGAGCGCAACCCUUGAUCUUAGUUGCCAGCAUUCAGUUGGGCACUCUAAGGUGACUGCCGGUGACAAACCGGAGGAAGGUGGGGAUGACGUCAAAUCAUCAUGCCCCUUAUGACCUGGGCUACACACGUGCUACAAUGGAUGGUACAAAGAGCUGCGAACCCGCGAGGGUAAGCNAAUCUCAUAAAGCCAUUCUCAGUUCGGAUUGUAGGCUGCAACUCGCCUACAUGAAGCCGGAAUCGCUAGUAAUCGCGGAUCAGCAUGCCGCGGUGAAUACGUUCCCGGGCCUUGUACACACCGCCCGUCACACCACGAGAGUUUGUAACACCCGAAGUCGGUGAGGUAACCUUUUGGAGCCAGCCGCCUAAGGUGGGAUAGAUGAUUGGGGUGAAGUCGUAACAAGGUAGCCGUAUCGGAAG'\n",
       "\\item '>SEQ\\_6463\\textbackslash{}tUGAGUUUGAUCUCUGGCUCAGGACGAACGCUGGCGGCGUGCCUAAUACAUGCAAGUCGAGCGGACUUUAAAAGCUUGCUUUUAAAGUUAGCGGCGGACGGGUGAGUAACACGUGGGCAACCUGCCUGUAAGACUGGGAUAACUUCGGGAAACCGGAGCUAAUACCGGAUAAUCCUUUUCCUCUCAUGAGGAAAAGCUGAAAGACGGUUUACGCUGUCACUUACAGAUGGGCCCGCGGCGCAUUAGCUAGUUGGUGAGGUAACGGCUCACCAAGGCGACGAUGCGUAGCCGACCUGAGAGGGUGAUCGGCCACACUGGGACUGAGACACGGCCCAGACUCCUACGGGAGGCAGCAGUAGGGAAUCUUCCGCAAUGGACGAAAGUCUGACGGAGCAACGCCGCGUGAGUGAUGAAGGUUUUCGGAUCGUAAAACUCUGUUGUUAGGGAAGAACAAGUACAAGAGUAACUGCUUGUACCUUGACGGUACCUAACCAGAAAGCCACGGCUAACUACGUGCCAGCAGCCGCGGUAAUACGUAGGUGGCAAGCGUUGUCCGGAAUUAUUGGGCGUAAAGCGCGCGCAGGCGGUCCUUUAAGUCUGAUGUGAAAGCCCACGGCUCAACCGUGGAGGGUCAUUGGAAACUGGGGGACUUGAGUGCAGAAGAGAAGAGUGGAAUUCCACGUGUAGCGGUGAAAUGCGUAGAGAUGUGGAGGAACACCAGUGGCGAAGGCGACUCUUUGGUCUGUAACUGACGCUGAGGCGCGAAAGCGUGGGGAGCAAACAGGAUUAGAUACCCUGGUAGUCCACGCCGUAAACGAUGAGUGCUAAGUGUUAGAGGGUUUCCGCCCUUUAGUGCUGCAGCAAACGCAUUAAGCACUCCGCCUGGGGAGUACGGCCGCAAGGCUGAAACUCAAAGGAAUUGACGGGGGCCCGCACAAGCGGUGGAGCAUGUGGUUUAAUUCGAAGCAACGCGAAGAACCUUACCAGGUCUUGACAUCCUCUGACACUCCUAGAGAUAGGACGUUCCCCUUCGGGGGACAGAGUGACAGGUGGUGCAUGGUUGUCGUCAGCUCGUGUCGUGAGAUGUUGGGUUAAGUCCCGCAACGAGCGCAACCCUUGAUCUUAGUUGCCAGCAUUCAGUUGGGCACUCUAAGGUGACUGCCGGUGACAAACCGGAGGAAGGUGGGGAUGACGUCAAAUCAUCAUGCCCCUUAUGACCUGGGCUACACACGUGCUACAAUGGAUGGUACAAAGGGCAGCAAAACCGCGAGGUCGAGCAAAUCCCAUAAAACCAUUCUCAGUUCGGAUUGUAGGCUGCAACUCGCCUACAUGAAGCUGGAAUCGCUAGUAAUCGCGGAUCAGCAUGCCGCGGUGAAUACGUUCCCGGGCCUUGUACACACCGCCCGUCACACCACGAGAGUUUGUAACACCCGAAGUCGGUGGGGUAACCUUUUGGAGCCAGCCGCCUAAGGUGGGAUAGAUGAUUGGGGUGAAGUCGUAACAAGGUAACA'\n",
       "\\item '>SEQ\\_9350\\textbackslash{}tGGAUCCAACGGAGAGUUUGAUUCUGGCUCAGGACGAACGCUGGCGGCGUGCCUAAUACAUGCAAGUCGAGCGGACAGAUGGGAGCUUGCUCCCUGAUGUUAGCGGCGGACGGGUGAGUAACACGUGGGUAACCUGCCUGUAAGACUGGGAUAACUCCGGGAAACCGGGGCUAAUACCGGAUGGUUGUUUGAACCGCAUGGUUCAAACAUAAAAGGUGGCUUCGGCUACCAUUUACAGAUGGACCCGCGGCGCAUUAGCUAGUUGGUGAGGUAACGGCUCACCAAGGCGACGAUGCGUAGCCGACCUGAGAGGGUGAUCGGCCACACUGGGACUGAGACACGGCCCAGACUCCUACGGGAGGCAGCAGUAGGGAAUCUUCCGCAAUGGACGAAAGUCUGACGGAGCAACGCCGCGUGAGUGAUGAAGGUUUUCGGAUCGUAAAGCUCUGUUGUUAGGGAAGAACAAGUACCGUUCGAAUAGGGCGGUGCCUUGACGGUACCUAACCAGAAAGCCACGGCUAACUACGUGCCAGCAGCCGCGGUAAUACGUAGGUGGCAAGCGUUGUCCGGAAUUAUUGGGCGUAAAGGGCUCGCAGGCGGUUUCUUAAGUCUGAUGUGAAAGCCCCCGGCUCAACCGGGGAGGGUCAUUGGAAACUGGGGAACUUGAGUGCAGAAGAGGAGAGUGGAAUUCCACGUGUAGCGGUGAAAUGCGUAGAGAUGUGGAGGAACACCAGUGGCGAAGGCGACUCUCUGGUCUGUAACUGACGCUGAGGAGCGAAAGCGUGGGGAGCGAACAGGAUUAGAUACCCUGGUAGUCCACGCCGUAAACGAUGAGUGCUAAGUGUUAGGGGGUUUCCGCCCCUUAGUGCUGCAGCUAACGCAUUAAGCACUCCGCCUGGGGAGUACGGUCGCAAGACUGAAACUCAAAGGAAUUGACGGGGGCCCGCACAAGCGGUGGAGCAUGUGGUUUAAUUCGAAGCAACGCGAAGAACCUUACCAGGUCUUGACAUCCUCUGACAAUCCUAGAGAUAGGACGUCCCCUUCGGGGGCAGAGUGACAGGUGGUGCAUGGUUGUCGUCAGCUCGUGUCGUGAGAUGUUGGGUUAAGUCCCGCAACGAGCGCAACCCUUGAUCUUAGUUGCCAGCAUUCAGUUGGGCACUCUAAGGUGACUGCCGGUGACAAACCGCAGGAAGGUGGGGAUGACGUCAAAUCAUCAUGCCCCUUAUGACCUGGGCUACACACGUGCUACAAUGGACAGAACAAAGGGUAGCGAAACCGCGAGGUUAAGCCAAUCCCACAAAUCUGUUCUCAGUUCGGAUCGCAGUCUGCAACUCGGACUGCGUGAAGCUGGAAUCGCUAGUAAUCGCGGAUCAGCAUGCCGCGGUGAAUACGUUCCCGGGCCUUGUACACACCGCCCGUCACACCACGAGAGUUUGUAACACCCGAAGUCGGUGAGGUAACCUUUUAGGAGCCAGCCGCCGAAGGUGGGACAGAUGAUUGGGGUGAAGUCGUAACAAGGUAGCCGUAUCGGAAGGUGCGGCUGGAUCACCUCCUUUCUAAGGAUAUUAUACGGAAUAUAAGACCUUGGGGCUUAUAAACAGAACGUUCCCUGUCUUGUUUAGUUUUGA'\n",
       "\\item '>SEQ\\_7726\\textbackslash{}tCGGGUGAGUAACACGUAGGCAACCUGCCUGUAAGACGGGGAUAACUCCGGGAAACCGGAGCUAAUACCGGAUAAUCCUUUAGCUCGCAUGAGCUGAAGUUGAAAGGUGGCGCAAGCUACCACUUACAGAUGGGCCUGCGGCGCAUUAGCUAGUUGGUGAGGUAACGGCUCACCAAGGCGACGAUGCGUAGCCGACCUGAGAGGGUGAUCGGCCACACUGGGACUGAGACACGGCCCAGACUCCUACGGGAGGCAGCAGUAGGGAAUCUUCGGCAAUGGACGAAAGUCUGACCGAGCAACGCCGCGUGAGUGAAGAAGGUUUUCGGAUUGUAAAACUCUGUUGUUAGGGAAGAACAAGUACCGUUUGAAUAAGNCGGUACCUUGACGGUACCUAACGAGAAAGCCCCGGCUAACUACGUGCCAGCAGCCGCGGUAAUACGUAGGGGGCAAGCGUUGUCCGGAAUUAUUGGGCGUAAAGCGCGCGCAGGCGGUUUCUUAAGUCUGAUGUGAAAGCCCACGGCUCAACCGUGGAGGGUCAUUGGAAACUGGGAGACUUGAGUGUAGGAGAGGAAAGCGGAAUUCCACGUGUAGCGGUGAAAUGCGUAGAGAUGUGGAGGAACACCAGUGGCGAAGGCGGCUUUCUGGCCUAUAACUGACGCUGAGGCGCGAAAGCGUGGGGAGCAAACAGGAUUAGAUACCCUGGUAGUCCACGCCGUAAACGAUGAGUGCUAGGUGUUAGGGGUUUCGAUACCCUUAGUGCCGACGUUAACACAAUAAGCACUCCGCCUGGGGAGUACGGCCGCAAGGCUGAAACUCAAAGGAAUUGACGGGGACCCGCACAAGCAGUGGAGCAUGUGGUUUAAUUCGAAGCAACGCGAAGAACCUUACCAGGACUUGACAUCCUUUGACACCCCUAGAGAUAGGGCUUCCCCUUCGGGGGCAAAGUGACAGGUGGUGCAUGGUUGUCGUCAGCUCGUGUCGUGAGAUGUUGGGUUAAGUCCCGCAACGAGCGCAACCCUUAAUCUUAGUUGCCAGCAUUNAGUUGGGCACUCUAAGGUGACUGCCGGUGACAAACCGGAGGAAGGUGGGGAUGACGUCAAAUCAUCAUGCCCCUUAUGUCCUGGGCUACACACGUGCUACAAUGGGCAGUACAAAGGGUAGCGAAGCCGCGAGGUGGAGCCAAUCCCAUAAAGCUGCUCUCAGUUCGGAUUGCAGGCUGCAACUCGCCUGCAUGAAGCCGGAAUUGCUAGUAAUCGCGGAUCAGCAUGCCGCGGUGAAUACGUUCCCGGGUCUUGUACACACCGCCCGUCACACCACGAGAGUUUGUAACACCCGAAGUCGGUGAGGUAACCUUUUUGGAGCCAGCUGCCUAAGGUGGGAUAGAUGAUUGGGGUGAAGUCGUAACAAGGUA'\n",
       "\\item '>SEQ\\_6498\\textbackslash{}tAACGCUGGCGGCAGGCCUAACACAUGCAAGUCGAGCGGAUGAAGGGAGCUUGCUUCUGGAUUCAGCGGCGGACGGGUGAGUAAUGCCUAGGAAUCUGCCUGGUAGUGGGGGACAACGUUCCGAAAGGAGCGCUAAUACCGCAUACGUCCUACGGGAGAAAGUGGGGGAUCUUCGGACCUCACGCUAUCAGAUGAGCCUAGGUCGGAUUAGCUAGUAGGUGGGGUAAUGGCUCACCUAGGCGACGAUCCGUAACUGGUCUGAGAGGAUGAUCAGUCACACUGGAACUGAGACACGGUCCAGACUCCUACGGGAGGCAGCAGUGGGGAAUAUUGGACAAUGGGCGAAAGCCUGAUCCAGCCAUGCCGCGUGUGUGAAGAAGGUCUUCGGAUUGUAAAGCACUUUAAGUUGGGAGGAAGGGCAGUAAGUUAAUACCUUGCUGUUUUGACGUUACCAACAGAAUAAGCACCGGCUAACUUCGUGCCAGCAGCCGCGGUAAUACGAAGGGUGCAAGCGUUAAUCGGAAUUACUGGGCGUAAAGCGCGCGUAGGUGGUUUGGUAAGAUGGAUGUGAAAUCCCCGGGCUCAACCUGGGAACUGCAUCCAUAACUGCCUGACUAGAGUACGGUAGAGGGUGGUGGAAUUUCCUGUGUAGCGGUGAAAUGCGUAGAUAUAGGAAGGAACACCAGUGGCGAAGGCGACCACCUGGACUGAUACUGACACUGAGGUGCGAAAGCGUGGGGAGCAAACAGGAUUAGAUACCCUGGUNGUCCACGCCGUAAACGAUGUCGACUAGCCGUUGGGAUCCUUGAGAUCUUAGUGGCGCANNUAACGCGAUAAGUCGACCGCCUGGGGAGUACGGCCGCAAGGUUAAAACUCAAAUGAAUUGACGGGGGCCCGCACAAGCGGUGGAGCAUGUGGUUUAAUUCGAAGCAACGCGAAGAACCUUACCUGGCCUUGACAUGUCCGGAAUUCUGCAGAGAUGCGGGAGUGCCUUCGGGAAUCGGAACACAGGUGCUGCAUGGCUGUCGUCAGCUCGUGUCGUGAGAUGUUGGGUUAAGUCCCGUAACGAGCGCAACCCUUGUCCUUAGUUACCAGCACGUUAUGGUGGGCACUCUAAGGAGACUGCCGGUNACAAACCGGAGGAAGGUGGGGAUGACGUCAAGUCAUCAUGGCCCUUACGGCCAGGGCUACACACGUGCUACAAUGGUCGGUACAGAGGGUUGCCAAGCCGCGAGGUGGAGCUAAUCCCAGAAAACCGAUCGUAGUCCGGAUCGCAGUCUGCAACUCGACUGCGUGAAGUCGGAAUCGCUAGUAAUCGUGAAUCAGAAUGUCACGGUGAAUACGUUCCCGGGCCUUGUACACACCGCCCGUCACACCAUGGGAGUGGGUUGCUCCAGAAGUAGCUAGUCUAACCGCAAGGGGGACGGUUACCACGGAGUGAUUCAUGACUGGGGUGAAGUCGUAACAAGGUAGCCGUAGGGGAACCUGCGGCUGGAUCAC'\n",
       "\\item '>SEQ\\_4614\\textbackslash{}tAUUGAACGCUGGCGGCAGGCCUAACACAUGCAAGUCGAGCGGAUGACGGGAGCUUGCUCCUUGAUUCAGCGGCGGACGGGUGAGUAAUGCCUAGGAAUCUGCCUGGUAGUGGGGGACAACGUUUCGAAAGGAACGCUAAUACCGCAUACGUCCUACGGGAGAAAGCAGGGGACCUUCGGGCCUUGCGCUAUCAGAUGAGCCUAGGUCGGAUUAGCUAGUUGGUGGGGUAAUGGCUCACCAAGGCGACGAUCCGUAACUGGUCUGAGAGGAUGAUCAGUCACACUGGAACUGAGACACGGUCCAGACUCCUACGGGAGGCAGCAGUGGGGAAUAUUGGACAAUGGGCGAAAGCCUGAUCCAGCCAUGCCGCGUGUGUGAAGAAGGUCUUCGGAUUGUAAAGCACUUUAAGUUGGGAGGAAGGGCAGUAAGUUAAUACCUUGCUGUUUUGACGUUACCGACAGAAUAAGCACCGGCUAACUCUGUGCCAGCAGCCGCGGUAAUACAGAGGGUGCAAGCGUUAAUCGGAAUUACUGGGCGUAAAGCGCGCGUAGGUGGUUCGUUAAGUUGGAUGUGAAAGCCCCGGGCUCAACCUGGGAACUGCAUCCAAAACUGGCGAGCUAGAGUACGGUAGAGGGUGGUGGAAUUUCCUGUGUAGCGGUGAAAUGCGUAGAUAUAGGAAGGAACACCAGUGGCGAAGGCGACCACCUGGACUGAUACUGACACUGAGGUGCGAAAGCGUGGGGAGCAAACAGGAUUAGAUACCCUGGUAGUCCACGCCGUAAACGAUGUCAACUAGCCGUUGGAAUCCUUGAGAUUUUAGUGGCGCANCUAACGCAUUAAGUUGACCGCCUGGGGAGUACGGCCGCAAGGUUAAAACUCNNAUGAAUUGACGGGGGCCCGCACAAGCGGUGGAGCAUGUGGUUUAAUUCGAAGCAACGCGAAGAACCUUACCAGGCCUUGACAUGCAGAGAACUUUCCAGAGAUGGAUUGGUGCCUUCGGGAACUCUGACACAGGUGCUGCAUGGCUGUCGUCAGCUCGUGUCGUGAGAUGUUGGGUUAAGUCCCGUAACGAGCGCAACCCUUGUCCUUAGUUACCAGCACGUAAUGGUGGGCACUCUAAGGAGACUGCCGGUGACAAACCGGAGGAAGGUGGGGAUGACGUCAAGUCAUCAUGGCCCUUACGGCCUGGGCUACACACGUGCUACAAUGGUCGGUACAGAGGGUUGCCAAGCCGCGAGGUGGAGCUAAUCUCACAAAACCGAUCGUAGUCCGGAUCGCAGUCUGCAACUCGACUGCGUGAAGUCGGAAUCGCUAGUAAUCGCGAAUCAGAAUGUCGCGGUGAAUACGUUCCCGGGCCUUGUACACACCGCCCGUCACACCAUGGGAGUGGGUUGCACCAGAAGUNNNNAGUCUAACCUUCGGGAGGACGGUUACNACGGUGUGAUUCAUGACUGGGGUGAAGUCGUAACAAGGUAGCCGUAGGGGAACCUGCGGCUGGAUCAC'\n",
       "\\item '>SEQ\\_6262\\textbackslash{}tAGUUUGAUCCUGGCUCAGAUUGAACGCUGGCGGCAGGCCUAACACAUGCAAGUCGAGCGGAUGAAGGGAGCUUGCUCCUGGAUUCAGCGGCGGACGGGUGAGUAAUGCCUAGGAAUCUGCCUGGUAGUGGGGGAUAACGUCCGGAAACGGGCGCUAAUACCGCAUACGUCCUGAGGGAGAAAGUGGGGGAUCUUCGGACCUCACGCUAUCAGAUGAGCCUAGGUCGGAUUAGCUAGUUGGUGGGGUAAAGGCCUACCAAGGCGACGAUCCGUAACUGGUCUGAGAGGAUGAUCAGUCACACUGGAACUGAGACACGGUCCAGACUCCUACGGGAGGCAGCAGUGGGGAAUAUUGGACAAUGGGCGAAAGCCUGAUCCAGCCAUGCCGCGUGUGUGAAGAAGGUCUUCGGAUUGUAAAGCACUUUAAGUUGGGAGGAAGGGCAGUAAGUUAAUACCUUGCUGUUUUGACGUUACCAACAGAAUAAGCACCGGCUAACUUCGUGCCAGCAGCCGCGGUAAUACGAAGGGUGCAAGCGUUAAUCGGAAUUACUGGGCGUAAAGCGCGCGUAGGUGGUUCAGCAAGUUGGAUGUGAAAUCCCCGGGCUCAACCUGGGAACUGCAUCCAAAACUACUGAGCUAGAGUACGGUAGAGGGUGGUGGAAUUUCCUGUGUAGCGGUGAAAUGCGUAGAUAUAGGAAGGAACACCAGUGGCGAAGGCGACCACCUGGACUGAUACUGACACUGAGGUGCGAAAGCGUGGGGAGCAAACAGGAUUAGAUACCCUGGUAGUCCACGCCGUAAACGAUGUCGACUAGCCGUUGGGAUCCUUGAGAUCUUAGUGGCGCNNNUAACGCGAUAAGUCGACCGCCUGGGGAGUACGGCCGCAAGGUUAAAACUCAAAUGAAUUGACGGGGGCCCGCACAAGCGGUGGAGCAUGUGGUUUAAUUCGAAGCAACGCGAAGAACCUUACCUGGCCUUGACAUGCUGAGAACUUUCCAGAGAUGGAUUGGUGCCUUCGGGAACUCAGACACAGGUGCUGCAUGGCUGUCGUCAGCUCGUGUCGUGAGAUGUUGGGUUAAGUCCCGUAACGAGCGCAACCCUUGUCCUUAGUUACCAGCACCUCGGGUGGGCACUCUAAGGAGACUGCCGGUGACAAACCGGAGGAAGGUGGGGAUGACGUCAAGUCAUCAUGGCCCUUACGGCCAGGGCUACACACGUGCUACAAUGGUCGGUACAAAGGGUUGCCAAGCCGCGAGGUGGAGCUAAUCCCAUAAAACCGAUCGUAGUCCGGAUCGCAGUCUGCAACUCGACUGCGUGAAGUCGGAAUCGCUAGUAAUCGUGAAUCAGAAUGUCACGGUGAAUACGUUCCCGGGCCUUGUACACACCGCCCGUCACACCAUGGGAGUGGGUUGCUCCAGAAGUAGCUAGUCUAACCGCAAGGGGGACGGUUACCACGGAGUAUUUCAUGACUGGGGUGAAGUCGUAACAAGGUAGCCGUAGGGGAACCUGCGGCUGGAUCACCUCCUU'\n",
       "\\item '>SEQ\\_2652\\textbackslash{}tAGUUUGAUCCUGGCUCAGAUUGAACGCUGGCGGCAGGCCUAACACAUGCAAGUCGAGCGGAUGAAGGGAGCUUGCUCCUGGAUUCAGCGGCGGACGGGUGAGUAAUGCCUAGGAAUCUGCCUGGUAGUGGGGGAUAACGUCCGGAAACGGGCGCUAAUACCGCAUACGUCCUGAGGGAGAAAGUGGGGGAUCUUCGGACCUCACGCUAUCAGAUGAGCCUAGGUCGGAUUAGCUAGUUGGUGGGGUAAAGGCCUACCAAGGCGACGAUCCGUAACUGGUCUGAGAGGAUGAUCAGUCACACUGGAACUGAGACACGGUCCAGACUCCUACGGGAGGCAGCAGUGGGGAAUAUUGGACAAUGGGCGAAANNCUGAUCCAGCCAUGCCGCGUGUGUGAAGAAGGUCUUCGGAUUGUAAAGCACUUUAAGUUGGGAGGAAGGGCAGUAAGUUAAUACCUUGCUGUUUUGACGUUACCAACAGAAUAAGCACCGGCUAACUUCGUGCCAGCAGCCGCGGUAAUACGAAGGGUGCAAGCGUUAAUCGGAAUUACUGGGCGUAAAGCGCGCGUAGGUGGUUCAGCAAGUUGGAUGUGAAAUCCCCGGGCUCAACCUGGGAACUGCAUCCAAAACUACUGAGCUAGAGUACGGUAGAGGGUGGUGGAAUUUCCUGUGUAGCGGUGAAAUGCGUAGAUAUAGGAAGGAACACCAGUGGCGAAGGCGACCACCUGGACUGAUACUGACACUGAGGUGCGAAAGCGUGGGGAGCAAACAGGAUUAGAUACCCUGGUAGUCCACGCCGUAAACGAUGUCGACUAGCCGUUGGGAUCCUUGAGAUCUUAGUGGCGCAGNNNACGCGAUAAGUCGACCGCCUGGGGAGUACGGCCGCAAGGUUAAAACUCAAAUGAAUUGACGGGGGCCCGCACAAGCGGUGGAGCAUGUGGUUUAAUUCGAAGCAACGCGAAGAACCUUACCUGGCCUUGACAUGCUGAGAACUUUCCAGAGAUGGAUUGGUGCCUUCGGGAACUCAGACACAGGUGCUGCAUGGCUGUCGUCAGCUCGUGUCGUGAGAUGUUGGGUUAAGUCCCGUAACGAGCGCAACCCUUGUCCUUAGUUACCAGCACCUCGGGUGGGCACUCUAAGGAGACUGCCGGUGACAAACCGGAGGAAGGUGGGGAUGACGUCAAGUCAUCAUGGCCCUUACGGCCAGGGCUACACACGUGCUACAAUGGUCGGUACAAAGGGUUGCCAAGCCGCGAGGUGGAGCUAAUCCCAUAAAACCGAUCGUAGUCCGGAUCGCAGUCUGCAACUCGACUGCGUGAAGUCGGAAUCGCUAGUAAUCGUGAAUCAGAAUGUCACGGUGAAUACGUUCCCGGGCCUUGUACACACCGCCCGUCACACCAUGGGAGUGGGUUGCUCCAGAAGUAGCUAGUCUAACCGCAAGGGGGACGGUUACCACGGAGUNAUUCAUGACUGGGGUGAAGUCGUAACAAGGUAGCCGUAGGGGAACCUGCGGCUGGAUCACCUCCUU'\n",
       "\\item '>SEQ\\_7407\\textbackslash{}tAGUUUGAUCCUGGCUCAGAUUGAACGCUGGCGGCAGGCCUAACACAUGCAAGUCGAGCGGAUGAAGGGAGCUUGCUCCUGGAUUCAGCGGCGGACGGGUGAGUAAUGCCUAGGAAUCUGCCUGGUAGUGGGGGAUAACGUCCGGAAACGGGCGCUAAUACCGCAUACGUCCUGAGGGAGAAAGUGGGGGAUCUUCGGACCUCACGCUAUCAGAUGAGCCUAGGUCGGAUUAGCUAGUUGGUGGGGUAAAGGCCUACCAAGGCGCCGAUCCGUAACUGGUCUGAGAGGAUGAUCAGUCACACUGGAACUGAGACACGGUCCAGACUCCUACGGGAAGCAGCAGUGGGGAAUAUUGGACAAUGGGCGAAANNNUGAUCCAGCCAUGCCGCGUGUGUGAAGAAGGUCUUCGGAUUGUAAAGCACUUUAAGUUGGGAGGAAGGGCAGUAAGUUAAUACCUUGCUGUUUUGACGUUACCAACAGAAUAAGCACCGGCUAACUUCGUGCCAGCAGCCGCGGUAAUACGAAGGGUGCAAGCGUUAAUCGGAAUUACUGGGCGUAAAGCGCGCGUAGGUGGUUCAGCAAGUUGGAUGUGAAAUCCCCGGGCUCAACCUGGGAACUGCAUCCAAAACUACUGAGCUAGAGUACGGUAGAGGGUGGUGGAAUUUCCUGUGUAGCGGUGAAAUGCGUAGAUAUAGGAAGGAACACCAGUGGCGAAGGCGACCACCUGGACUGAUACUGACACUGAGGUGCGAAAGCGUGGGGAGCAAACAGGAUUAGAUACCCUGGUAGUCCACGCCGUAAACGAUGUCGACUAGCCGUUGGGAUCCUUGAGAUCUUAGUGGCGCNNNUAACGCGAUAAGUCGACCGCCUGGGGAGUACGGCCGCAAGGUUAAAACUCAAAUGAAUUGACGGGGGCCCGCACAAGCGGUGGAGCAUGUGGUUUAAUUCGAAGCAACGCGAAGAACCUUACCUGGCCUUGACAUGCUGAGAACUUUCCAGAGAUGGAUUGGUGCCUUCGGGAACUCAGACACAGGUGCUGCAUGGCUGUCGUCAGCUCGUGUCGUGAGAUGUUGGGUUAAGUCCCGUAACGAGCGCAACCCUUGUCCUUAGUUACCAGCACCUCGGGUGGGCACUCUAAGGAGACUGCCGGUGACAAACCGGAGGAAGGUGGGGAUGACGUCAAGUCAUCAUGGCCCUUACGGCCAGGGCUACACACGUGCUACAAUGGUCGGUACAAAGGGUUGCCAAGCCGCGAGGUGGAGCUAAUCCCAUAAAACCGAUCGUAGUCCGGAUCGCAGUCUGCAACUCGACUGCGUGAAGUCGGAAUCGCUAGUAAUCGUGAAUCAGAAUGUCACGGUGAAUACGUUCCCGGGCCUUGUACACACCGCCCGUCACACCAUGGGAGUGGGUUGCUCCAGAAGUAGCUAGUCUAACCGCAAGGGGGACGGUUACCACGGAGUNAUUCAUGACUGGGGUGAAGUCGUAACAAGGUAGCCGUAGGGGAACCUGCGGCUGGAUCACCUCCUU'\n",
       "\\item '>SEQ\\_7472\\textbackslash{}tAGUUUGAUCCUGGCUCAGAUUGAACGCUGGCGGCAGGCCUAACACAUGCAAGUCGAGCGGAUGAAGGGAGCUUGCUCCUGGAUUCAGCGGCGGACGGGUGAGUAAUGCCUAGGAAUCUGCCUGGUAGUGGGGGAUAACGUCCGGAAACGGGCGCUAAUACCGCAUACGUCCUGAGGGAGAAAGUGGGGGAUCUUCGGACCUCACGCUAUCAGAUGAGCCUAGGUCGGAUUAGCUAGUUGGUGGGGUAAAGGCCUACCAAGGCGACGAUCCGUAACUGGUCUGAGAGGAUGAUCAGUCACACUGGAACUGAGACACGGUCCAGACUCCUACGGGAGGCAGCAGUGGGGAAUAUUGGACAAUGGGCGAAANNNUGAUCCAGCCAUGCCGCGUGUGUGAAGAAGGUCUUCGGAUUGUAAAGCACUUUAAGUUGGGAGGAAGGGCAGUAAGUUAAUACCUUGCUGUUUUGACGUUACCAACAGAAUAAGCACCGGCUAACUUCGUGCCAGCAGCCGCGGUAAUACGAAGGGUGCAAGCGUUAAUCGGAAUUACUGGGCGUAAAGCGCGCGUAGGUGGUUCAGCAAGUUGGAUGUGAAAUCCCCGGGCUCAACCUGGGAACUGCAUCCAAAACUACUGAGCUAGAGUACGGUAGAGGGUGGUGGAAUUUCCUGUGUAGCGGUGAAAUGCGUAGAUAUAGGAAGGAACACCAGUGGCGAAGGCGACCACCUGGACUGAUACUGACACUGAGGUGCGAAAGCGUGGGGAGCAAACAGGAUUAGAUACCCUGGUAGUCCACGCCGUAAACGAUGUCGACUAGCCGUUGGGAUCCUUGAGAUCUUAGUGGCGCNNNNAACGCGAUAAGUCGACCGCCUGGGGAGUACGGCCGCAAGGUUAAAACUCAAAUGAAUUGACGGGGGCCCGCACAAGCGGUGGAGCAUGUGGUUUAAUUCGAAGCAACGCGAAGAACCUUACCUGGCCUUGACAUGCUGAGAACUUUCCAGAGAUGGAUUGGUGCCUUCGGGAACUCAGACACAGGUGCUGCAUGGCUGUCGUCAGCUCGUGUCGUGAGAUGUUGGGUUAAGUCCCGUAACGAGCGCAACCCUUGUCCUUAGUUACCAGCACCUCGGGUGGGCACUCUAAGGAGACUGCCGGUGACAAACCGGAGGAAGGUGGGGAUGACGUCAAGUCAUCAUGGCCCUUACGGCCAGGGCUACACACGUGCUACAAUGGUCGGUACAAAGGGUUGCCAAGCCGCGAGGUGGAGCUAAUCCCAUAAAACCGAUCGUAGUCCGGAUCGCAGUCUGCAACUCGACUGCGUGAAGUCGGAAUCGCUAGUAAUCGUGAAUCAGAAUGUCACGGUGAAUACGUUCCCGGGCCUUGUACACACCGCCCGUCACACCAUGGGAGUGGGUUGCUCCAGAAGUAGCUAGUCUAACCGCAAGGGGGACGGUUACCACGGAGUNAUUCAUGACUGGGGUGAAGUCGUAACAAGGUAGCCGUAGGGGAACCUGCGGCUGGAUCACCUCCUU'\n",
       "\\item '>SEQ\\_3121\\textbackslash{}tAGUUUGAUCCUGGCUCAGAUUGAACGCUGGCGGCAGGCCUAACACAUGCAAGUCGAGCGGAUGAAGGGAGCUUGCUCCUGGAUUCAGCGGCGGACGGGUGAGUAAUGCCUAGGAAUCUGCCUGGUAGUGGGGGAUAACGUCCGGAAACGGGCGCUAAUACCGCAUACGUCCUGAGGGAGAAAGUGGGGGAUCUUCGGACCUCACGCUAUCAGAUGAGCCUAGGUCGGAUUAGCUAGUUGGUGGGGUAAAGGCCUACCAAGGCGACGAUCCGUAACUGGUCUGAGAGGAUGAUCAGUCACACUGGAACUGAGACACGGUCCAGACUCCUACGGGAGGCAGCAGUGGGGAAUAUUGGACAAUGGGCGAAAGCCUGAUCCAGCCAUGCCGCGUGUGUGAAGAAGGUCUUCGGAUUGUAAAGCACUUUAAGUUGGGAGGAAGGGCAGUAAGUUAAUACCUUGCUGUUUUGACGUUACCAACAGAAUAAGCACCGGCUAACUUCGUGCCAGCAGCCGCGGUAAUACGAAGGGUGCAAGCGUUAAUCGGAAUUACUGGGCGUAAAGCGCGCGUAGGUGGUUCAGCAAGUUGGAUGUGAAAUCCCCGGGCUCAACCUGGGAACUGCAUCCAAAACUACUGAGCUAGAGUACGGUAGAGGGUGGUGGAAUUUCCUGUGUAGCGGUGAAAUGCGUAGAUAUAGGAAGGAACACCAGUGGCGAAGGCGACCACCUGGACUGAUACUGACACUGAGGUGCGAAAGCGUGGGGAGCAAACAGGAUUAGAUACCCUGGUAGUCCACGCCGUAAACGAUGUCGACUAGCCGUUGGGAUCCUUGAGAUCUUAGUGGCGCANNNAACGCGAUAAGUCGACCGCCUGGGGAGUACGGCCGCAAGGUUAAAACUCAAAUGAAUUGACGGGGGCCCGCACAAGCGGUGGAGCAUGUGGUUUAAUUCGAAGCAACGCGAAGAACCUUACCUGGCCUUGACAUGCUGAGAACUUUCCAGAGAUGGAUUGGUGCCUUCGGGAACUCAGACACAGGUGCUGCAUGGCUGUCGUCAGCUCGUGUCGUGAGAUGUUGGGUUAAGUCCCGUAACGAGCGCAACCCUUGUCCUUAGUUACCAGCACCUCGGGUGGGCACUCUAAGGAGACUGCCGGUGACAAACCGGAGGAAGGUGGGGAUGACGUCAAGUCAUCAUGGCCCUUACGGCCAGGGCUACACACGUGCUACAAUGGUCGGUACAAAGGGUUGCCAAGCCGCGAGGUGGAGCUAAUCCCAUAAAACCGAUCGUAGUCCGGAUCGCAGUCUGCAACUCGACUGCGUGAAGUCGGAAUCGCUAGUAAUCGUGAAUCAGAAUGUCACGGUGAAUACGUUCCCGGGCCUUGUACACACCGCCCGUCACACCAUGGGAGUGGGUUGCUCCAGAAGUAGCUAGUCUAACCGCAAGGGGGACGGUUACCACGGAGUNAUUCAUGACUGGGGUGAAGUCGUAACAAGGUAGCCGUAGGGGAACCUGCGGCUGGAUCACCUCCUU'\n",
       "\\end{enumerate*}\n"
      ],
      "text/markdown": [
       "1. '&gt;SEQ_7425\\tGGACGAACGCUGGCGGCGUGCCUAAUACAUGCAAGUCGAGCGAAUCAAUGGGAGCUUGCUCCCUGAGAUUAGCGGCGGACGGGUGAGUAACACGUGGGUAACCUGCCUGUAAGACUGGGAUAACUUCGGGAAACCGGAGCUAAUACCGGAUAGUUUCUUCUCUCGCAUGAGAGAAGAUGGAAAGAUGGUUUCGGCUAUCACUUACAGAUGGACCCGCGGCGCAUUAGCUAGUUGGUGAGGUAACGGCUCACCAAGGCGACGAUGCGUAGCCGACCUGAGAGGGUGAUCGGCCACACUGGGACUGAGACACGGCCCAGACUCCUACGGGAGGCAGCAGUAGGGAAUCUUCCGCAAUGGACGAAAGUCUGACGGAGCAACGCCGCGUGAGCGAAGAAGGCCUUCGGGUCGUAAAGCUCUGUUGUUAGGGAAGAACAAGUACGAGAGUAACUGCUCGUACCUUGACGGUACCUAACCAGAAAGCCACGGCUAACUACGUGCCAGCAGCCGCGGUAAUACGUAGGUGGCAAGCGUUGUCCGGAAUUAUUGGGCGUAAAGCGCGCGCAGGCGGUCCUUUAAGUCUGAUGUGAAAGCCCACGGCUCAACCGUGGAGGGUCAUUGGAAACUGGGGGACUUGAGUGCAGAAGAGGAGAGUGGAAUUCCACGUGUAGCGGUGAAAUGCGUAGAGAUGUGGAGGAACACCAGUGGCGAAGGCGACUCUCUGGUCUGUAACUGACGCUGAGGCGCGAAAGCGUGGGGAGCAAACAGGAUUAGAUACCCUGGUAGUCCACGCCGUANACGAUGAGUGCUAAGUGUUAGAGGGUUUCCGCCCUUUAGUGCUGCAGCUAACGCAUUAAGCACUCCGCCUGGGGAGUACGGCCGCAAGGCUGAAACUCAAAGGAAUUGACGGGGGCCCGCACAAGCGGUGGAGCAUGUGGUUUAAUUCGAAGCAACGCGAANGAACCUUACCAGGUCUUGACAUCCUCUGCCAANCCCUAGAGAUAGGGCGUUCCCCUUCGGGGGACAGAGUGACAGGUGGUGCAUGGGUGUCGUCAGCUCGUGUCGUGAGAUGUUGGGUUAAGUCCCGCAACGAGCGCAACCCUUGAUCUUAGUUGCCAGCAUUCAGUUGGGCACUCUAAGGUGACUGCCGGUGACAAACCGGAGGAAGGUGGGGAUGACGUCAAAUCAUCAUGCCCCUUAUGACCUGGGCUACACACGUGCUACAAUGGAUGGUACAAAGAGCUGCGAACCCGCGAGGGUAAGCNAAUCUCAUAAAGCCAUUCUCAGUUCGGAUUGUAGGCUGCAACUCGCCUACAUGAAGCCGGAAUCGCUAGUAAUCGCGGAUCAGCAUGCCGCGGUGAAUACGUUCCCGGGCCUUGUACACACCGCCCGUCACACCACGAGAGUUUGUAACACCCGAAGUCGGUGAGGUAACCUUUUGGAGCCAGCCGCCUAAGGUGGGAUAGAUGAUUGGGGUGAAGUCGUAACAAGGUAGCCGUAUCGGAAG'\n",
       "2. '&gt;SEQ_6463\\tUGAGUUUGAUCUCUGGCUCAGGACGAACGCUGGCGGCGUGCCUAAUACAUGCAAGUCGAGCGGACUUUAAAAGCUUGCUUUUAAAGUUAGCGGCGGACGGGUGAGUAACACGUGGGCAACCUGCCUGUAAGACUGGGAUAACUUCGGGAAACCGGAGCUAAUACCGGAUAAUCCUUUUCCUCUCAUGAGGAAAAGCUGAAAGACGGUUUACGCUGUCACUUACAGAUGGGCCCGCGGCGCAUUAGCUAGUUGGUGAGGUAACGGCUCACCAAGGCGACGAUGCGUAGCCGACCUGAGAGGGUGAUCGGCCACACUGGGACUGAGACACGGCCCAGACUCCUACGGGAGGCAGCAGUAGGGAAUCUUCCGCAAUGGACGAAAGUCUGACGGAGCAACGCCGCGUGAGUGAUGAAGGUUUUCGGAUCGUAAAACUCUGUUGUUAGGGAAGAACAAGUACAAGAGUAACUGCUUGUACCUUGACGGUACCUAACCAGAAAGCCACGGCUAACUACGUGCCAGCAGCCGCGGUAAUACGUAGGUGGCAAGCGUUGUCCGGAAUUAUUGGGCGUAAAGCGCGCGCAGGCGGUCCUUUAAGUCUGAUGUGAAAGCCCACGGCUCAACCGUGGAGGGUCAUUGGAAACUGGGGGACUUGAGUGCAGAAGAGAAGAGUGGAAUUCCACGUGUAGCGGUGAAAUGCGUAGAGAUGUGGAGGAACACCAGUGGCGAAGGCGACUCUUUGGUCUGUAACUGACGCUGAGGCGCGAAAGCGUGGGGAGCAAACAGGAUUAGAUACCCUGGUAGUCCACGCCGUAAACGAUGAGUGCUAAGUGUUAGAGGGUUUCCGCCCUUUAGUGCUGCAGCAAACGCAUUAAGCACUCCGCCUGGGGAGUACGGCCGCAAGGCUGAAACUCAAAGGAAUUGACGGGGGCCCGCACAAGCGGUGGAGCAUGUGGUUUAAUUCGAAGCAACGCGAAGAACCUUACCAGGUCUUGACAUCCUCUGACACUCCUAGAGAUAGGACGUUCCCCUUCGGGGGACAGAGUGACAGGUGGUGCAUGGUUGUCGUCAGCUCGUGUCGUGAGAUGUUGGGUUAAGUCCCGCAACGAGCGCAACCCUUGAUCUUAGUUGCCAGCAUUCAGUUGGGCACUCUAAGGUGACUGCCGGUGACAAACCGGAGGAAGGUGGGGAUGACGUCAAAUCAUCAUGCCCCUUAUGACCUGGGCUACACACGUGCUACAAUGGAUGGUACAAAGGGCAGCAAAACCGCGAGGUCGAGCAAAUCCCAUAAAACCAUUCUCAGUUCGGAUUGUAGGCUGCAACUCGCCUACAUGAAGCUGGAAUCGCUAGUAAUCGCGGAUCAGCAUGCCGCGGUGAAUACGUUCCCGGGCCUUGUACACACCGCCCGUCACACCACGAGAGUUUGUAACACCCGAAGUCGGUGGGGUAACCUUUUGGAGCCAGCCGCCUAAGGUGGGAUAGAUGAUUGGGGUGAAGUCGUAACAAGGUAACA'\n",
       "3. '&gt;SEQ_9350\\tGGAUCCAACGGAGAGUUUGAUUCUGGCUCAGGACGAACGCUGGCGGCGUGCCUAAUACAUGCAAGUCGAGCGGACAGAUGGGAGCUUGCUCCCUGAUGUUAGCGGCGGACGGGUGAGUAACACGUGGGUAACCUGCCUGUAAGACUGGGAUAACUCCGGGAAACCGGGGCUAAUACCGGAUGGUUGUUUGAACCGCAUGGUUCAAACAUAAAAGGUGGCUUCGGCUACCAUUUACAGAUGGACCCGCGGCGCAUUAGCUAGUUGGUGAGGUAACGGCUCACCAAGGCGACGAUGCGUAGCCGACCUGAGAGGGUGAUCGGCCACACUGGGACUGAGACACGGCCCAGACUCCUACGGGAGGCAGCAGUAGGGAAUCUUCCGCAAUGGACGAAAGUCUGACGGAGCAACGCCGCGUGAGUGAUGAAGGUUUUCGGAUCGUAAAGCUCUGUUGUUAGGGAAGAACAAGUACCGUUCGAAUAGGGCGGUGCCUUGACGGUACCUAACCAGAAAGCCACGGCUAACUACGUGCCAGCAGCCGCGGUAAUACGUAGGUGGCAAGCGUUGUCCGGAAUUAUUGGGCGUAAAGGGCUCGCAGGCGGUUUCUUAAGUCUGAUGUGAAAGCCCCCGGCUCAACCGGGGAGGGUCAUUGGAAACUGGGGAACUUGAGUGCAGAAGAGGAGAGUGGAAUUCCACGUGUAGCGGUGAAAUGCGUAGAGAUGUGGAGGAACACCAGUGGCGAAGGCGACUCUCUGGUCUGUAACUGACGCUGAGGAGCGAAAGCGUGGGGAGCGAACAGGAUUAGAUACCCUGGUAGUCCACGCCGUAAACGAUGAGUGCUAAGUGUUAGGGGGUUUCCGCCCCUUAGUGCUGCAGCUAACGCAUUAAGCACUCCGCCUGGGGAGUACGGUCGCAAGACUGAAACUCAAAGGAAUUGACGGGGGCCCGCACAAGCGGUGGAGCAUGUGGUUUAAUUCGAAGCAACGCGAAGAACCUUACCAGGUCUUGACAUCCUCUGACAAUCCUAGAGAUAGGACGUCCCCUUCGGGGGCAGAGUGACAGGUGGUGCAUGGUUGUCGUCAGCUCGUGUCGUGAGAUGUUGGGUUAAGUCCCGCAACGAGCGCAACCCUUGAUCUUAGUUGCCAGCAUUCAGUUGGGCACUCUAAGGUGACUGCCGGUGACAAACCGCAGGAAGGUGGGGAUGACGUCAAAUCAUCAUGCCCCUUAUGACCUGGGCUACACACGUGCUACAAUGGACAGAACAAAGGGUAGCGAAACCGCGAGGUUAAGCCAAUCCCACAAAUCUGUUCUCAGUUCGGAUCGCAGUCUGCAACUCGGACUGCGUGAAGCUGGAAUCGCUAGUAAUCGCGGAUCAGCAUGCCGCGGUGAAUACGUUCCCGGGCCUUGUACACACCGCCCGUCACACCACGAGAGUUUGUAACACCCGAAGUCGGUGAGGUAACCUUUUAGGAGCCAGCCGCCGAAGGUGGGACAGAUGAUUGGGGUGAAGUCGUAACAAGGUAGCCGUAUCGGAAGGUGCGGCUGGAUCACCUCCUUUCUAAGGAUAUUAUACGGAAUAUAAGACCUUGGGGCUUAUAAACAGAACGUUCCCUGUCUUGUUUAGUUUUGA'\n",
       "4. '&gt;SEQ_7726\\tCGGGUGAGUAACACGUAGGCAACCUGCCUGUAAGACGGGGAUAACUCCGGGAAACCGGAGCUAAUACCGGAUAAUCCUUUAGCUCGCAUGAGCUGAAGUUGAAAGGUGGCGCAAGCUACCACUUACAGAUGGGCCUGCGGCGCAUUAGCUAGUUGGUGAGGUAACGGCUCACCAAGGCGACGAUGCGUAGCCGACCUGAGAGGGUGAUCGGCCACACUGGGACUGAGACACGGCCCAGACUCCUACGGGAGGCAGCAGUAGGGAAUCUUCGGCAAUGGACGAAAGUCUGACCGAGCAACGCCGCGUGAGUGAAGAAGGUUUUCGGAUUGUAAAACUCUGUUGUUAGGGAAGAACAAGUACCGUUUGAAUAAGNCGGUACCUUGACGGUACCUAACGAGAAAGCCCCGGCUAACUACGUGCCAGCAGCCGCGGUAAUACGUAGGGGGCAAGCGUUGUCCGGAAUUAUUGGGCGUAAAGCGCGCGCAGGCGGUUUCUUAAGUCUGAUGUGAAAGCCCACGGCUCAACCGUGGAGGGUCAUUGGAAACUGGGAGACUUGAGUGUAGGAGAGGAAAGCGGAAUUCCACGUGUAGCGGUGAAAUGCGUAGAGAUGUGGAGGAACACCAGUGGCGAAGGCGGCUUUCUGGCCUAUAACUGACGCUGAGGCGCGAAAGCGUGGGGAGCAAACAGGAUUAGAUACCCUGGUAGUCCACGCCGUAAACGAUGAGUGCUAGGUGUUAGGGGUUUCGAUACCCUUAGUGCCGACGUUAACACAAUAAGCACUCCGCCUGGGGAGUACGGCCGCAAGGCUGAAACUCAAAGGAAUUGACGGGGACCCGCACAAGCAGUGGAGCAUGUGGUUUAAUUCGAAGCAACGCGAAGAACCUUACCAGGACUUGACAUCCUUUGACACCCCUAGAGAUAGGGCUUCCCCUUCGGGGGCAAAGUGACAGGUGGUGCAUGGUUGUCGUCAGCUCGUGUCGUGAGAUGUUGGGUUAAGUCCCGCAACGAGCGCAACCCUUAAUCUUAGUUGCCAGCAUUNAGUUGGGCACUCUAAGGUGACUGCCGGUGACAAACCGGAGGAAGGUGGGGAUGACGUCAAAUCAUCAUGCCCCUUAUGUCCUGGGCUACACACGUGCUACAAUGGGCAGUACAAAGGGUAGCGAAGCCGCGAGGUGGAGCCAAUCCCAUAAAGCUGCUCUCAGUUCGGAUUGCAGGCUGCAACUCGCCUGCAUGAAGCCGGAAUUGCUAGUAAUCGCGGAUCAGCAUGCCGCGGUGAAUACGUUCCCGGGUCUUGUACACACCGCCCGUCACACCACGAGAGUUUGUAACACCCGAAGUCGGUGAGGUAACCUUUUUGGAGCCAGCUGCCUAAGGUGGGAUAGAUGAUUGGGGUGAAGUCGUAACAAGGUA'\n",
       "5. '&gt;SEQ_6498\\tAACGCUGGCGGCAGGCCUAACACAUGCAAGUCGAGCGGAUGAAGGGAGCUUGCUUCUGGAUUCAGCGGCGGACGGGUGAGUAAUGCCUAGGAAUCUGCCUGGUAGUGGGGGACAACGUUCCGAAAGGAGCGCUAAUACCGCAUACGUCCUACGGGAGAAAGUGGGGGAUCUUCGGACCUCACGCUAUCAGAUGAGCCUAGGUCGGAUUAGCUAGUAGGUGGGGUAAUGGCUCACCUAGGCGACGAUCCGUAACUGGUCUGAGAGGAUGAUCAGUCACACUGGAACUGAGACACGGUCCAGACUCCUACGGGAGGCAGCAGUGGGGAAUAUUGGACAAUGGGCGAAAGCCUGAUCCAGCCAUGCCGCGUGUGUGAAGAAGGUCUUCGGAUUGUAAAGCACUUUAAGUUGGGAGGAAGGGCAGUAAGUUAAUACCUUGCUGUUUUGACGUUACCAACAGAAUAAGCACCGGCUAACUUCGUGCCAGCAGCCGCGGUAAUACGAAGGGUGCAAGCGUUAAUCGGAAUUACUGGGCGUAAAGCGCGCGUAGGUGGUUUGGUAAGAUGGAUGUGAAAUCCCCGGGCUCAACCUGGGAACUGCAUCCAUAACUGCCUGACUAGAGUACGGUAGAGGGUGGUGGAAUUUCCUGUGUAGCGGUGAAAUGCGUAGAUAUAGGAAGGAACACCAGUGGCGAAGGCGACCACCUGGACUGAUACUGACACUGAGGUGCGAAAGCGUGGGGAGCAAACAGGAUUAGAUACCCUGGUNGUCCACGCCGUAAACGAUGUCGACUAGCCGUUGGGAUCCUUGAGAUCUUAGUGGCGCANNUAACGCGAUAAGUCGACCGCCUGGGGAGUACGGCCGCAAGGUUAAAACUCAAAUGAAUUGACGGGGGCCCGCACAAGCGGUGGAGCAUGUGGUUUAAUUCGAAGCAACGCGAAGAACCUUACCUGGCCUUGACAUGUCCGGAAUUCUGCAGAGAUGCGGGAGUGCCUUCGGGAAUCGGAACACAGGUGCUGCAUGGCUGUCGUCAGCUCGUGUCGUGAGAUGUUGGGUUAAGUCCCGUAACGAGCGCAACCCUUGUCCUUAGUUACCAGCACGUUAUGGUGGGCACUCUAAGGAGACUGCCGGUNACAAACCGGAGGAAGGUGGGGAUGACGUCAAGUCAUCAUGGCCCUUACGGCCAGGGCUACACACGUGCUACAAUGGUCGGUACAGAGGGUUGCCAAGCCGCGAGGUGGAGCUAAUCCCAGAAAACCGAUCGUAGUCCGGAUCGCAGUCUGCAACUCGACUGCGUGAAGUCGGAAUCGCUAGUAAUCGUGAAUCAGAAUGUCACGGUGAAUACGUUCCCGGGCCUUGUACACACCGCCCGUCACACCAUGGGAGUGGGUUGCUCCAGAAGUAGCUAGUCUAACCGCAAGGGGGACGGUUACCACGGAGUGAUUCAUGACUGGGGUGAAGUCGUAACAAGGUAGCCGUAGGGGAACCUGCGGCUGGAUCAC'\n",
       "6. '&gt;SEQ_4614\\tAUUGAACGCUGGCGGCAGGCCUAACACAUGCAAGUCGAGCGGAUGACGGGAGCUUGCUCCUUGAUUCAGCGGCGGACGGGUGAGUAAUGCCUAGGAAUCUGCCUGGUAGUGGGGGACAACGUUUCGAAAGGAACGCUAAUACCGCAUACGUCCUACGGGAGAAAGCAGGGGACCUUCGGGCCUUGCGCUAUCAGAUGAGCCUAGGUCGGAUUAGCUAGUUGGUGGGGUAAUGGCUCACCAAGGCGACGAUCCGUAACUGGUCUGAGAGGAUGAUCAGUCACACUGGAACUGAGACACGGUCCAGACUCCUACGGGAGGCAGCAGUGGGGAAUAUUGGACAAUGGGCGAAAGCCUGAUCCAGCCAUGCCGCGUGUGUGAAGAAGGUCUUCGGAUUGUAAAGCACUUUAAGUUGGGAGGAAGGGCAGUAAGUUAAUACCUUGCUGUUUUGACGUUACCGACAGAAUAAGCACCGGCUAACUCUGUGCCAGCAGCCGCGGUAAUACAGAGGGUGCAAGCGUUAAUCGGAAUUACUGGGCGUAAAGCGCGCGUAGGUGGUUCGUUAAGUUGGAUGUGAAAGCCCCGGGCUCAACCUGGGAACUGCAUCCAAAACUGGCGAGCUAGAGUACGGUAGAGGGUGGUGGAAUUUCCUGUGUAGCGGUGAAAUGCGUAGAUAUAGGAAGGAACACCAGUGGCGAAGGCGACCACCUGGACUGAUACUGACACUGAGGUGCGAAAGCGUGGGGAGCAAACAGGAUUAGAUACCCUGGUAGUCCACGCCGUAAACGAUGUCAACUAGCCGUUGGAAUCCUUGAGAUUUUAGUGGCGCANCUAACGCAUUAAGUUGACCGCCUGGGGAGUACGGCCGCAAGGUUAAAACUCNNAUGAAUUGACGGGGGCCCGCACAAGCGGUGGAGCAUGUGGUUUAAUUCGAAGCAACGCGAAGAACCUUACCAGGCCUUGACAUGCAGAGAACUUUCCAGAGAUGGAUUGGUGCCUUCGGGAACUCUGACACAGGUGCUGCAUGGCUGUCGUCAGCUCGUGUCGUGAGAUGUUGGGUUAAGUCCCGUAACGAGCGCAACCCUUGUCCUUAGUUACCAGCACGUAAUGGUGGGCACUCUAAGGAGACUGCCGGUGACAAACCGGAGGAAGGUGGGGAUGACGUCAAGUCAUCAUGGCCCUUACGGCCUGGGCUACACACGUGCUACAAUGGUCGGUACAGAGGGUUGCCAAGCCGCGAGGUGGAGCUAAUCUCACAAAACCGAUCGUAGUCCGGAUCGCAGUCUGCAACUCGACUGCGUGAAGUCGGAAUCGCUAGUAAUCGCGAAUCAGAAUGUCGCGGUGAAUACGUUCCCGGGCCUUGUACACACCGCCCGUCACACCAUGGGAGUGGGUUGCACCAGAAGUNNNNAGUCUAACCUUCGGGAGGACGGUUACNACGGUGUGAUUCAUGACUGGGGUGAAGUCGUAACAAGGUAGCCGUAGGGGAACCUGCGGCUGGAUCAC'\n",
       "7. '&gt;SEQ_6262\\tAGUUUGAUCCUGGCUCAGAUUGAACGCUGGCGGCAGGCCUAACACAUGCAAGUCGAGCGGAUGAAGGGAGCUUGCUCCUGGAUUCAGCGGCGGACGGGUGAGUAAUGCCUAGGAAUCUGCCUGGUAGUGGGGGAUAACGUCCGGAAACGGGCGCUAAUACCGCAUACGUCCUGAGGGAGAAAGUGGGGGAUCUUCGGACCUCACGCUAUCAGAUGAGCCUAGGUCGGAUUAGCUAGUUGGUGGGGUAAAGGCCUACCAAGGCGACGAUCCGUAACUGGUCUGAGAGGAUGAUCAGUCACACUGGAACUGAGACACGGUCCAGACUCCUACGGGAGGCAGCAGUGGGGAAUAUUGGACAAUGGGCGAAAGCCUGAUCCAGCCAUGCCGCGUGUGUGAAGAAGGUCUUCGGAUUGUAAAGCACUUUAAGUUGGGAGGAAGGGCAGUAAGUUAAUACCUUGCUGUUUUGACGUUACCAACAGAAUAAGCACCGGCUAACUUCGUGCCAGCAGCCGCGGUAAUACGAAGGGUGCAAGCGUUAAUCGGAAUUACUGGGCGUAAAGCGCGCGUAGGUGGUUCAGCAAGUUGGAUGUGAAAUCCCCGGGCUCAACCUGGGAACUGCAUCCAAAACUACUGAGCUAGAGUACGGUAGAGGGUGGUGGAAUUUCCUGUGUAGCGGUGAAAUGCGUAGAUAUAGGAAGGAACACCAGUGGCGAAGGCGACCACCUGGACUGAUACUGACACUGAGGUGCGAAAGCGUGGGGAGCAAACAGGAUUAGAUACCCUGGUAGUCCACGCCGUAAACGAUGUCGACUAGCCGUUGGGAUCCUUGAGAUCUUAGUGGCGCNNNUAACGCGAUAAGUCGACCGCCUGGGGAGUACGGCCGCAAGGUUAAAACUCAAAUGAAUUGACGGGGGCCCGCACAAGCGGUGGAGCAUGUGGUUUAAUUCGAAGCAACGCGAAGAACCUUACCUGGCCUUGACAUGCUGAGAACUUUCCAGAGAUGGAUUGGUGCCUUCGGGAACUCAGACACAGGUGCUGCAUGGCUGUCGUCAGCUCGUGUCGUGAGAUGUUGGGUUAAGUCCCGUAACGAGCGCAACCCUUGUCCUUAGUUACCAGCACCUCGGGUGGGCACUCUAAGGAGACUGCCGGUGACAAACCGGAGGAAGGUGGGGAUGACGUCAAGUCAUCAUGGCCCUUACGGCCAGGGCUACACACGUGCUACAAUGGUCGGUACAAAGGGUUGCCAAGCCGCGAGGUGGAGCUAAUCCCAUAAAACCGAUCGUAGUCCGGAUCGCAGUCUGCAACUCGACUGCGUGAAGUCGGAAUCGCUAGUAAUCGUGAAUCAGAAUGUCACGGUGAAUACGUUCCCGGGCCUUGUACACACCGCCCGUCACACCAUGGGAGUGGGUUGCUCCAGAAGUAGCUAGUCUAACCGCAAGGGGGACGGUUACCACGGAGUAUUUCAUGACUGGGGUGAAGUCGUAACAAGGUAGCCGUAGGGGAACCUGCGGCUGGAUCACCUCCUU'\n",
       "8. '&gt;SEQ_2652\\tAGUUUGAUCCUGGCUCAGAUUGAACGCUGGCGGCAGGCCUAACACAUGCAAGUCGAGCGGAUGAAGGGAGCUUGCUCCUGGAUUCAGCGGCGGACGGGUGAGUAAUGCCUAGGAAUCUGCCUGGUAGUGGGGGAUAACGUCCGGAAACGGGCGCUAAUACCGCAUACGUCCUGAGGGAGAAAGUGGGGGAUCUUCGGACCUCACGCUAUCAGAUGAGCCUAGGUCGGAUUAGCUAGUUGGUGGGGUAAAGGCCUACCAAGGCGACGAUCCGUAACUGGUCUGAGAGGAUGAUCAGUCACACUGGAACUGAGACACGGUCCAGACUCCUACGGGAGGCAGCAGUGGGGAAUAUUGGACAAUGGGCGAAANNCUGAUCCAGCCAUGCCGCGUGUGUGAAGAAGGUCUUCGGAUUGUAAAGCACUUUAAGUUGGGAGGAAGGGCAGUAAGUUAAUACCUUGCUGUUUUGACGUUACCAACAGAAUAAGCACCGGCUAACUUCGUGCCAGCAGCCGCGGUAAUACGAAGGGUGCAAGCGUUAAUCGGAAUUACUGGGCGUAAAGCGCGCGUAGGUGGUUCAGCAAGUUGGAUGUGAAAUCCCCGGGCUCAACCUGGGAACUGCAUCCAAAACUACUGAGCUAGAGUACGGUAGAGGGUGGUGGAAUUUCCUGUGUAGCGGUGAAAUGCGUAGAUAUAGGAAGGAACACCAGUGGCGAAGGCGACCACCUGGACUGAUACUGACACUGAGGUGCGAAAGCGUGGGGAGCAAACAGGAUUAGAUACCCUGGUAGUCCACGCCGUAAACGAUGUCGACUAGCCGUUGGGAUCCUUGAGAUCUUAGUGGCGCAGNNNACGCGAUAAGUCGACCGCCUGGGGAGUACGGCCGCAAGGUUAAAACUCAAAUGAAUUGACGGGGGCCCGCACAAGCGGUGGAGCAUGUGGUUUAAUUCGAAGCAACGCGAAGAACCUUACCUGGCCUUGACAUGCUGAGAACUUUCCAGAGAUGGAUUGGUGCCUUCGGGAACUCAGACACAGGUGCUGCAUGGCUGUCGUCAGCUCGUGUCGUGAGAUGUUGGGUUAAGUCCCGUAACGAGCGCAACCCUUGUCCUUAGUUACCAGCACCUCGGGUGGGCACUCUAAGGAGACUGCCGGUGACAAACCGGAGGAAGGUGGGGAUGACGUCAAGUCAUCAUGGCCCUUACGGCCAGGGCUACACACGUGCUACAAUGGUCGGUACAAAGGGUUGCCAAGCCGCGAGGUGGAGCUAAUCCCAUAAAACCGAUCGUAGUCCGGAUCGCAGUCUGCAACUCGACUGCGUGAAGUCGGAAUCGCUAGUAAUCGUGAAUCAGAAUGUCACGGUGAAUACGUUCCCGGGCCUUGUACACACCGCCCGUCACACCAUGGGAGUGGGUUGCUCCAGAAGUAGCUAGUCUAACCGCAAGGGGGACGGUUACCACGGAGUNAUUCAUGACUGGGGUGAAGUCGUAACAAGGUAGCCGUAGGGGAACCUGCGGCUGGAUCACCUCCUU'\n",
       "9. '&gt;SEQ_7407\\tAGUUUGAUCCUGGCUCAGAUUGAACGCUGGCGGCAGGCCUAACACAUGCAAGUCGAGCGGAUGAAGGGAGCUUGCUCCUGGAUUCAGCGGCGGACGGGUGAGUAAUGCCUAGGAAUCUGCCUGGUAGUGGGGGAUAACGUCCGGAAACGGGCGCUAAUACCGCAUACGUCCUGAGGGAGAAAGUGGGGGAUCUUCGGACCUCACGCUAUCAGAUGAGCCUAGGUCGGAUUAGCUAGUUGGUGGGGUAAAGGCCUACCAAGGCGCCGAUCCGUAACUGGUCUGAGAGGAUGAUCAGUCACACUGGAACUGAGACACGGUCCAGACUCCUACGGGAAGCAGCAGUGGGGAAUAUUGGACAAUGGGCGAAANNNUGAUCCAGCCAUGCCGCGUGUGUGAAGAAGGUCUUCGGAUUGUAAAGCACUUUAAGUUGGGAGGAAGGGCAGUAAGUUAAUACCUUGCUGUUUUGACGUUACCAACAGAAUAAGCACCGGCUAACUUCGUGCCAGCAGCCGCGGUAAUACGAAGGGUGCAAGCGUUAAUCGGAAUUACUGGGCGUAAAGCGCGCGUAGGUGGUUCAGCAAGUUGGAUGUGAAAUCCCCGGGCUCAACCUGGGAACUGCAUCCAAAACUACUGAGCUAGAGUACGGUAGAGGGUGGUGGAAUUUCCUGUGUAGCGGUGAAAUGCGUAGAUAUAGGAAGGAACACCAGUGGCGAAGGCGACCACCUGGACUGAUACUGACACUGAGGUGCGAAAGCGUGGGGAGCAAACAGGAUUAGAUACCCUGGUAGUCCACGCCGUAAACGAUGUCGACUAGCCGUUGGGAUCCUUGAGAUCUUAGUGGCGCNNNUAACGCGAUAAGUCGACCGCCUGGGGAGUACGGCCGCAAGGUUAAAACUCAAAUGAAUUGACGGGGGCCCGCACAAGCGGUGGAGCAUGUGGUUUAAUUCGAAGCAACGCGAAGAACCUUACCUGGCCUUGACAUGCUGAGAACUUUCCAGAGAUGGAUUGGUGCCUUCGGGAACUCAGACACAGGUGCUGCAUGGCUGUCGUCAGCUCGUGUCGUGAGAUGUUGGGUUAAGUCCCGUAACGAGCGCAACCCUUGUCCUUAGUUACCAGCACCUCGGGUGGGCACUCUAAGGAGACUGCCGGUGACAAACCGGAGGAAGGUGGGGAUGACGUCAAGUCAUCAUGGCCCUUACGGCCAGGGCUACACACGUGCUACAAUGGUCGGUACAAAGGGUUGCCAAGCCGCGAGGUGGAGCUAAUCCCAUAAAACCGAUCGUAGUCCGGAUCGCAGUCUGCAACUCGACUGCGUGAAGUCGGAAUCGCUAGUAAUCGUGAAUCAGAAUGUCACGGUGAAUACGUUCCCGGGCCUUGUACACACCGCCCGUCACACCAUGGGAGUGGGUUGCUCCAGAAGUAGCUAGUCUAACCGCAAGGGGGACGGUUACCACGGAGUNAUUCAUGACUGGGGUGAAGUCGUAACAAGGUAGCCGUAGGGGAACCUGCGGCUGGAUCACCUCCUU'\n",
       "10. '&gt;SEQ_7472\\tAGUUUGAUCCUGGCUCAGAUUGAACGCUGGCGGCAGGCCUAACACAUGCAAGUCGAGCGGAUGAAGGGAGCUUGCUCCUGGAUUCAGCGGCGGACGGGUGAGUAAUGCCUAGGAAUCUGCCUGGUAGUGGGGGAUAACGUCCGGAAACGGGCGCUAAUACCGCAUACGUCCUGAGGGAGAAAGUGGGGGAUCUUCGGACCUCACGCUAUCAGAUGAGCCUAGGUCGGAUUAGCUAGUUGGUGGGGUAAAGGCCUACCAAGGCGACGAUCCGUAACUGGUCUGAGAGGAUGAUCAGUCACACUGGAACUGAGACACGGUCCAGACUCCUACGGGAGGCAGCAGUGGGGAAUAUUGGACAAUGGGCGAAANNNUGAUCCAGCCAUGCCGCGUGUGUGAAGAAGGUCUUCGGAUUGUAAAGCACUUUAAGUUGGGAGGAAGGGCAGUAAGUUAAUACCUUGCUGUUUUGACGUUACCAACAGAAUAAGCACCGGCUAACUUCGUGCCAGCAGCCGCGGUAAUACGAAGGGUGCAAGCGUUAAUCGGAAUUACUGGGCGUAAAGCGCGCGUAGGUGGUUCAGCAAGUUGGAUGUGAAAUCCCCGGGCUCAACCUGGGAACUGCAUCCAAAACUACUGAGCUAGAGUACGGUAGAGGGUGGUGGAAUUUCCUGUGUAGCGGUGAAAUGCGUAGAUAUAGGAAGGAACACCAGUGGCGAAGGCGACCACCUGGACUGAUACUGACACUGAGGUGCGAAAGCGUGGGGAGCAAACAGGAUUAGAUACCCUGGUAGUCCACGCCGUAAACGAUGUCGACUAGCCGUUGGGAUCCUUGAGAUCUUAGUGGCGCNNNNAACGCGAUAAGUCGACCGCCUGGGGAGUACGGCCGCAAGGUUAAAACUCAAAUGAAUUGACGGGGGCCCGCACAAGCGGUGGAGCAUGUGGUUUAAUUCGAAGCAACGCGAAGAACCUUACCUGGCCUUGACAUGCUGAGAACUUUCCAGAGAUGGAUUGGUGCCUUCGGGAACUCAGACACAGGUGCUGCAUGGCUGUCGUCAGCUCGUGUCGUGAGAUGUUGGGUUAAGUCCCGUAACGAGCGCAACCCUUGUCCUUAGUUACCAGCACCUCGGGUGGGCACUCUAAGGAGACUGCCGGUGACAAACCGGAGGAAGGUGGGGAUGACGUCAAGUCAUCAUGGCCCUUACGGCCAGGGCUACACACGUGCUACAAUGGUCGGUACAAAGGGUUGCCAAGCCGCGAGGUGGAGCUAAUCCCAUAAAACCGAUCGUAGUCCGGAUCGCAGUCUGCAACUCGACUGCGUGAAGUCGGAAUCGCUAGUAAUCGUGAAUCAGAAUGUCACGGUGAAUACGUUCCCGGGCCUUGUACACACCGCCCGUCACACCAUGGGAGUGGGUUGCUCCAGAAGUAGCUAGUCUAACCGCAAGGGGGACGGUUACCACGGAGUNAUUCAUGACUGGGGUGAAGUCGUAACAAGGUAGCCGUAGGGGAACCUGCGGCUGGAUCACCUCCUU'\n",
       "11. '&gt;SEQ_3121\\tAGUUUGAUCCUGGCUCAGAUUGAACGCUGGCGGCAGGCCUAACACAUGCAAGUCGAGCGGAUGAAGGGAGCUUGCUCCUGGAUUCAGCGGCGGACGGGUGAGUAAUGCCUAGGAAUCUGCCUGGUAGUGGGGGAUAACGUCCGGAAACGGGCGCUAAUACCGCAUACGUCCUGAGGGAGAAAGUGGGGGAUCUUCGGACCUCACGCUAUCAGAUGAGCCUAGGUCGGAUUAGCUAGUUGGUGGGGUAAAGGCCUACCAAGGCGACGAUCCGUAACUGGUCUGAGAGGAUGAUCAGUCACACUGGAACUGAGACACGGUCCAGACUCCUACGGGAGGCAGCAGUGGGGAAUAUUGGACAAUGGGCGAAAGCCUGAUCCAGCCAUGCCGCGUGUGUGAAGAAGGUCUUCGGAUUGUAAAGCACUUUAAGUUGGGAGGAAGGGCAGUAAGUUAAUACCUUGCUGUUUUGACGUUACCAACAGAAUAAGCACCGGCUAACUUCGUGCCAGCAGCCGCGGUAAUACGAAGGGUGCAAGCGUUAAUCGGAAUUACUGGGCGUAAAGCGCGCGUAGGUGGUUCAGCAAGUUGGAUGUGAAAUCCCCGGGCUCAACCUGGGAACUGCAUCCAAAACUACUGAGCUAGAGUACGGUAGAGGGUGGUGGAAUUUCCUGUGUAGCGGUGAAAUGCGUAGAUAUAGGAAGGAACACCAGUGGCGAAGGCGACCACCUGGACUGAUACUGACACUGAGGUGCGAAAGCGUGGGGAGCAAACAGGAUUAGAUACCCUGGUAGUCCACGCCGUAAACGAUGUCGACUAGCCGUUGGGAUCCUUGAGAUCUUAGUGGCGCANNNAACGCGAUAAGUCGACCGCCUGGGGAGUACGGCCGCAAGGUUAAAACUCAAAUGAAUUGACGGGGGCCCGCACAAGCGGUGGAGCAUGUGGUUUAAUUCGAAGCAACGCGAAGAACCUUACCUGGCCUUGACAUGCUGAGAACUUUCCAGAGAUGGAUUGGUGCCUUCGGGAACUCAGACACAGGUGCUGCAUGGCUGUCGUCAGCUCGUGUCGUGAGAUGUUGGGUUAAGUCCCGUAACGAGCGCAACCCUUGUCCUUAGUUACCAGCACCUCGGGUGGGCACUCUAAGGAGACUGCCGGUGACAAACCGGAGGAAGGUGGGGAUGACGUCAAGUCAUCAUGGCCCUUACGGCCAGGGCUACACACGUGCUACAAUGGUCGGUACAAAGGGUUGCCAAGCCGCGAGGUGGAGCUAAUCCCAUAAAACCGAUCGUAGUCCGGAUCGCAGUCUGCAACUCGACUGCGUGAAGUCGGAAUCGCUAGUAAUCGUGAAUCAGAAUGUCACGGUGAAUACGUUCCCGGGCCUUGUACACACCGCCCGUCACACCAUGGGAGUGGGUUGCUCCAGAAGUAGCUAGUCUAACCGCAAGGGGGACGGUUACCACGGAGUNAUUCAUGACUGGGGUGAAGUCGUAACAAGGUAGCCGUAGGGGAACCUGCGGCUGGAUCACCUCCUU'\n",
       "\n",
       "\n"
      ],
      "text/plain": [
       " [1] \">SEQ_7425\\tGGACGAACGCUGGCGGCGUGCCUAAUACAUGCAAGUCGAGCGAAUCAAUGGGAGCUUGCUCCCUGAGAUUAGCGGCGGACGGGUGAGUAACACGUGGGUAACCUGCCUGUAAGACUGGGAUAACUUCGGGAAACCGGAGCUAAUACCGGAUAGUUUCUUCUCUCGCAUGAGAGAAGAUGGAAAGAUGGUUUCGGCUAUCACUUACAGAUGGACCCGCGGCGCAUUAGCUAGUUGGUGAGGUAACGGCUCACCAAGGCGACGAUGCGUAGCCGACCUGAGAGGGUGAUCGGCCACACUGGGACUGAGACACGGCCCAGACUCCUACGGGAGGCAGCAGUAGGGAAUCUUCCGCAAUGGACGAAAGUCUGACGGAGCAACGCCGCGUGAGCGAAGAAGGCCUUCGGGUCGUAAAGCUCUGUUGUUAGGGAAGAACAAGUACGAGAGUAACUGCUCGUACCUUGACGGUACCUAACCAGAAAGCCACGGCUAACUACGUGCCAGCAGCCGCGGUAAUACGUAGGUGGCAAGCGUUGUCCGGAAUUAUUGGGCGUAAAGCGCGCGCAGGCGGUCCUUUAAGUCUGAUGUGAAAGCCCACGGCUCAACCGUGGAGGGUCAUUGGAAACUGGGGGACUUGAGUGCAGAAGAGGAGAGUGGAAUUCCACGUGUAGCGGUGAAAUGCGUAGAGAUGUGGAGGAACACCAGUGGCGAAGGCGACUCUCUGGUCUGUAACUGACGCUGAGGCGCGAAAGCGUGGGGAGCAAACAGGAUUAGAUACCCUGGUAGUCCACGCCGUANACGAUGAGUGCUAAGUGUUAGAGGGUUUCCGCCCUUUAGUGCUGCAGCUAACGCAUUAAGCACUCCGCCUGGGGAGUACGGCCGCAAGGCUGAAACUCAAAGGAAUUGACGGGGGCCCGCACAAGCGGUGGAGCAUGUGGUUUAAUUCGAAGCAACGCGAANGAACCUUACCAGGUCUUGACAUCCUCUGCCAANCCCUAGAGAUAGGGCGUUCCCCUUCGGGGGACAGAGUGACAGGUGGUGCAUGGGUGUCGUCAGCUCGUGUCGUGAGAUGUUGGGUUAAGUCCCGCAACGAGCGCAACCCUUGAUCUUAGUUGCCAGCAUUCAGUUGGGCACUCUAAGGUGACUGCCGGUGACAAACCGGAGGAAGGUGGGGAUGACGUCAAAUCAUCAUGCCCCUUAUGACCUGGGCUACACACGUGCUACAAUGGAUGGUACAAAGAGCUGCGAACCCGCGAGGGUAAGCNAAUCUCAUAAAGCCAUUCUCAGUUCGGAUUGUAGGCUGCAACUCGCCUACAUGAAGCCGGAAUCGCUAGUAAUCGCGGAUCAGCAUGCCGCGGUGAAUACGUUCCCGGGCCUUGUACACACCGCCCGUCACACCACGAGAGUUUGUAACACCCGAAGUCGGUGAGGUAACCUUUUGGAGCCAGCCGCCUAAGGUGGGAUAGAUGAUUGGGGUGAAGUCGUAACAAGGUAGCCGUAUCGGAAG\"                                                                                                                           \n",
       " [2] \">SEQ_6463\\tUGAGUUUGAUCUCUGGCUCAGGACGAACGCUGGCGGCGUGCCUAAUACAUGCAAGUCGAGCGGACUUUAAAAGCUUGCUUUUAAAGUUAGCGGCGGACGGGUGAGUAACACGUGGGCAACCUGCCUGUAAGACUGGGAUAACUUCGGGAAACCGGAGCUAAUACCGGAUAAUCCUUUUCCUCUCAUGAGGAAAAGCUGAAAGACGGUUUACGCUGUCACUUACAGAUGGGCCCGCGGCGCAUUAGCUAGUUGGUGAGGUAACGGCUCACCAAGGCGACGAUGCGUAGCCGACCUGAGAGGGUGAUCGGCCACACUGGGACUGAGACACGGCCCAGACUCCUACGGGAGGCAGCAGUAGGGAAUCUUCCGCAAUGGACGAAAGUCUGACGGAGCAACGCCGCGUGAGUGAUGAAGGUUUUCGGAUCGUAAAACUCUGUUGUUAGGGAAGAACAAGUACAAGAGUAACUGCUUGUACCUUGACGGUACCUAACCAGAAAGCCACGGCUAACUACGUGCCAGCAGCCGCGGUAAUACGUAGGUGGCAAGCGUUGUCCGGAAUUAUUGGGCGUAAAGCGCGCGCAGGCGGUCCUUUAAGUCUGAUGUGAAAGCCCACGGCUCAACCGUGGAGGGUCAUUGGAAACUGGGGGACUUGAGUGCAGAAGAGAAGAGUGGAAUUCCACGUGUAGCGGUGAAAUGCGUAGAGAUGUGGAGGAACACCAGUGGCGAAGGCGACUCUUUGGUCUGUAACUGACGCUGAGGCGCGAAAGCGUGGGGAGCAAACAGGAUUAGAUACCCUGGUAGUCCACGCCGUAAACGAUGAGUGCUAAGUGUUAGAGGGUUUCCGCCCUUUAGUGCUGCAGCAAACGCAUUAAGCACUCCGCCUGGGGAGUACGGCCGCAAGGCUGAAACUCAAAGGAAUUGACGGGGGCCCGCACAAGCGGUGGAGCAUGUGGUUUAAUUCGAAGCAACGCGAAGAACCUUACCAGGUCUUGACAUCCUCUGACACUCCUAGAGAUAGGACGUUCCCCUUCGGGGGACAGAGUGACAGGUGGUGCAUGGUUGUCGUCAGCUCGUGUCGUGAGAUGUUGGGUUAAGUCCCGCAACGAGCGCAACCCUUGAUCUUAGUUGCCAGCAUUCAGUUGGGCACUCUAAGGUGACUGCCGGUGACAAACCGGAGGAAGGUGGGGAUGACGUCAAAUCAUCAUGCCCCUUAUGACCUGGGCUACACACGUGCUACAAUGGAUGGUACAAAGGGCAGCAAAACCGCGAGGUCGAGCAAAUCCCAUAAAACCAUUCUCAGUUCGGAUUGUAGGCUGCAACUCGCCUACAUGAAGCUGGAAUCGCUAGUAAUCGCGGAUCAGCAUGCCGCGGUGAAUACGUUCCCGGGCCUUGUACACACCGCCCGUCACACCACGAGAGUUUGUAACACCCGAAGUCGGUGGGGUAACCUUUUGGAGCCAGCCGCCUAAGGUGGGAUAGAUGAUUGGGGUGAAGUCGUAACAAGGUAACA\"                                                                                                                     \n",
       " [3] \">SEQ_9350\\tGGAUCCAACGGAGAGUUUGAUUCUGGCUCAGGACGAACGCUGGCGGCGUGCCUAAUACAUGCAAGUCGAGCGGACAGAUGGGAGCUUGCUCCCUGAUGUUAGCGGCGGACGGGUGAGUAACACGUGGGUAACCUGCCUGUAAGACUGGGAUAACUCCGGGAAACCGGGGCUAAUACCGGAUGGUUGUUUGAACCGCAUGGUUCAAACAUAAAAGGUGGCUUCGGCUACCAUUUACAGAUGGACCCGCGGCGCAUUAGCUAGUUGGUGAGGUAACGGCUCACCAAGGCGACGAUGCGUAGCCGACCUGAGAGGGUGAUCGGCCACACUGGGACUGAGACACGGCCCAGACUCCUACGGGAGGCAGCAGUAGGGAAUCUUCCGCAAUGGACGAAAGUCUGACGGAGCAACGCCGCGUGAGUGAUGAAGGUUUUCGGAUCGUAAAGCUCUGUUGUUAGGGAAGAACAAGUACCGUUCGAAUAGGGCGGUGCCUUGACGGUACCUAACCAGAAAGCCACGGCUAACUACGUGCCAGCAGCCGCGGUAAUACGUAGGUGGCAAGCGUUGUCCGGAAUUAUUGGGCGUAAAGGGCUCGCAGGCGGUUUCUUAAGUCUGAUGUGAAAGCCCCCGGCUCAACCGGGGAGGGUCAUUGGAAACUGGGGAACUUGAGUGCAGAAGAGGAGAGUGGAAUUCCACGUGUAGCGGUGAAAUGCGUAGAGAUGUGGAGGAACACCAGUGGCGAAGGCGACUCUCUGGUCUGUAACUGACGCUGAGGAGCGAAAGCGUGGGGAGCGAACAGGAUUAGAUACCCUGGUAGUCCACGCCGUAAACGAUGAGUGCUAAGUGUUAGGGGGUUUCCGCCCCUUAGUGCUGCAGCUAACGCAUUAAGCACUCCGCCUGGGGAGUACGGUCGCAAGACUGAAACUCAAAGGAAUUGACGGGGGCCCGCACAAGCGGUGGAGCAUGUGGUUUAAUUCGAAGCAACGCGAAGAACCUUACCAGGUCUUGACAUCCUCUGACAAUCCUAGAGAUAGGACGUCCCCUUCGGGGGCAGAGUGACAGGUGGUGCAUGGUUGUCGUCAGCUCGUGUCGUGAGAUGUUGGGUUAAGUCCCGCAACGAGCGCAACCCUUGAUCUUAGUUGCCAGCAUUCAGUUGGGCACUCUAAGGUGACUGCCGGUGACAAACCGCAGGAAGGUGGGGAUGACGUCAAAUCAUCAUGCCCCUUAUGACCUGGGCUACACACGUGCUACAAUGGACAGAACAAAGGGUAGCGAAACCGCGAGGUUAAGCCAAUCCCACAAAUCUGUUCUCAGUUCGGAUCGCAGUCUGCAACUCGGACUGCGUGAAGCUGGAAUCGCUAGUAAUCGCGGAUCAGCAUGCCGCGGUGAAUACGUUCCCGGGCCUUGUACACACCGCCCGUCACACCACGAGAGUUUGUAACACCCGAAGUCGGUGAGGUAACCUUUUAGGAGCCAGCCGCCGAAGGUGGGACAGAUGAUUGGGGUGAAGUCGUAACAAGGUAGCCGUAUCGGAAGGUGCGGCUGGAUCACCUCCUUUCUAAGGAUAUUAUACGGAAUAUAAGACCUUGGGGCUUAUAAACAGAACGUUCCCUGUCUUGUUUAGUUUUGA\"\n",
       " [4] \">SEQ_7726\\tCGGGUGAGUAACACGUAGGCAACCUGCCUGUAAGACGGGGAUAACUCCGGGAAACCGGAGCUAAUACCGGAUAAUCCUUUAGCUCGCAUGAGCUGAAGUUGAAAGGUGGCGCAAGCUACCACUUACAGAUGGGCCUGCGGCGCAUUAGCUAGUUGGUGAGGUAACGGCUCACCAAGGCGACGAUGCGUAGCCGACCUGAGAGGGUGAUCGGCCACACUGGGACUGAGACACGGCCCAGACUCCUACGGGAGGCAGCAGUAGGGAAUCUUCGGCAAUGGACGAAAGUCUGACCGAGCAACGCCGCGUGAGUGAAGAAGGUUUUCGGAUUGUAAAACUCUGUUGUUAGGGAAGAACAAGUACCGUUUGAAUAAGNCGGUACCUUGACGGUACCUAACGAGAAAGCCCCGGCUAACUACGUGCCAGCAGCCGCGGUAAUACGUAGGGGGCAAGCGUUGUCCGGAAUUAUUGGGCGUAAAGCGCGCGCAGGCGGUUUCUUAAGUCUGAUGUGAAAGCCCACGGCUCAACCGUGGAGGGUCAUUGGAAACUGGGAGACUUGAGUGUAGGAGAGGAAAGCGGAAUUCCACGUGUAGCGGUGAAAUGCGUAGAGAUGUGGAGGAACACCAGUGGCGAAGGCGGCUUUCUGGCCUAUAACUGACGCUGAGGCGCGAAAGCGUGGGGAGCAAACAGGAUUAGAUACCCUGGUAGUCCACGCCGUAAACGAUGAGUGCUAGGUGUUAGGGGUUUCGAUACCCUUAGUGCCGACGUUAACACAAUAAGCACUCCGCCUGGGGAGUACGGCCGCAAGGCUGAAACUCAAAGGAAUUGACGGGGACCCGCACAAGCAGUGGAGCAUGUGGUUUAAUUCGAAGCAACGCGAAGAACCUUACCAGGACUUGACAUCCUUUGACACCCCUAGAGAUAGGGCUUCCCCUUCGGGGGCAAAGUGACAGGUGGUGCAUGGUUGUCGUCAGCUCGUGUCGUGAGAUGUUGGGUUAAGUCCCGCAACGAGCGCAACCCUUAAUCUUAGUUGCCAGCAUUNAGUUGGGCACUCUAAGGUGACUGCCGGUGACAAACCGGAGGAAGGUGGGGAUGACGUCAAAUCAUCAUGCCCCUUAUGUCCUGGGCUACACACGUGCUACAAUGGGCAGUACAAAGGGUAGCGAAGCCGCGAGGUGGAGCCAAUCCCAUAAAGCUGCUCUCAGUUCGGAUUGCAGGCUGCAACUCGCCUGCAUGAAGCCGGAAUUGCUAGUAAUCGCGGAUCAGCAUGCCGCGGUGAAUACGUUCCCGGGUCUUGUACACACCGCCCGUCACACCACGAGAGUUUGUAACACCCGAAGUCGGUGAGGUAACCUUUUUGGAGCCAGCUGCCUAAGGUGGGAUAGAUGAUUGGGGUGAAGUCGUAACAAGGUA\"                                                                                                                                                                                                                         \n",
       " [5] \">SEQ_6498\\tAACGCUGGCGGCAGGCCUAACACAUGCAAGUCGAGCGGAUGAAGGGAGCUUGCUUCUGGAUUCAGCGGCGGACGGGUGAGUAAUGCCUAGGAAUCUGCCUGGUAGUGGGGGACAACGUUCCGAAAGGAGCGCUAAUACCGCAUACGUCCUACGGGAGAAAGUGGGGGAUCUUCGGACCUCACGCUAUCAGAUGAGCCUAGGUCGGAUUAGCUAGUAGGUGGGGUAAUGGCUCACCUAGGCGACGAUCCGUAACUGGUCUGAGAGGAUGAUCAGUCACACUGGAACUGAGACACGGUCCAGACUCCUACGGGAGGCAGCAGUGGGGAAUAUUGGACAAUGGGCGAAAGCCUGAUCCAGCCAUGCCGCGUGUGUGAAGAAGGUCUUCGGAUUGUAAAGCACUUUAAGUUGGGAGGAAGGGCAGUAAGUUAAUACCUUGCUGUUUUGACGUUACCAACAGAAUAAGCACCGGCUAACUUCGUGCCAGCAGCCGCGGUAAUACGAAGGGUGCAAGCGUUAAUCGGAAUUACUGGGCGUAAAGCGCGCGUAGGUGGUUUGGUAAGAUGGAUGUGAAAUCCCCGGGCUCAACCUGGGAACUGCAUCCAUAACUGCCUGACUAGAGUACGGUAGAGGGUGGUGGAAUUUCCUGUGUAGCGGUGAAAUGCGUAGAUAUAGGAAGGAACACCAGUGGCGAAGGCGACCACCUGGACUGAUACUGACACUGAGGUGCGAAAGCGUGGGGAGCAAACAGGAUUAGAUACCCUGGUNGUCCACGCCGUAAACGAUGUCGACUAGCCGUUGGGAUCCUUGAGAUCUUAGUGGCGCANNUAACGCGAUAAGUCGACCGCCUGGGGAGUACGGCCGCAAGGUUAAAACUCAAAUGAAUUGACGGGGGCCCGCACAAGCGGUGGAGCAUGUGGUUUAAUUCGAAGCAACGCGAAGAACCUUACCUGGCCUUGACAUGUCCGGAAUUCUGCAGAGAUGCGGGAGUGCCUUCGGGAAUCGGAACACAGGUGCUGCAUGGCUGUCGUCAGCUCGUGUCGUGAGAUGUUGGGUUAAGUCCCGUAACGAGCGCAACCCUUGUCCUUAGUUACCAGCACGUUAUGGUGGGCACUCUAAGGAGACUGCCGGUNACAAACCGGAGGAAGGUGGGGAUGACGUCAAGUCAUCAUGGCCCUUACGGCCAGGGCUACACACGUGCUACAAUGGUCGGUACAGAGGGUUGCCAAGCCGCGAGGUGGAGCUAAUCCCAGAAAACCGAUCGUAGUCCGGAUCGCAGUCUGCAACUCGACUGCGUGAAGUCGGAAUCGCUAGUAAUCGUGAAUCAGAAUGUCACGGUGAAUACGUUCCCGGGCCUUGUACACACCGCCCGUCACACCAUGGGAGUGGGUUGCUCCAGAAGUAGCUAGUCUAACCGCAAGGGGGACGGUUACCACGGAGUGAUUCAUGACUGGGGUGAAGUCGUAACAAGGUAGCCGUAGGGGAACCUGCGGCUGGAUCAC\"                                                                                                                                \n",
       " [6] \">SEQ_4614\\tAUUGAACGCUGGCGGCAGGCCUAACACAUGCAAGUCGAGCGGAUGACGGGAGCUUGCUCCUUGAUUCAGCGGCGGACGGGUGAGUAAUGCCUAGGAAUCUGCCUGGUAGUGGGGGACAACGUUUCGAAAGGAACGCUAAUACCGCAUACGUCCUACGGGAGAAAGCAGGGGACCUUCGGGCCUUGCGCUAUCAGAUGAGCCUAGGUCGGAUUAGCUAGUUGGUGGGGUAAUGGCUCACCAAGGCGACGAUCCGUAACUGGUCUGAGAGGAUGAUCAGUCACACUGGAACUGAGACACGGUCCAGACUCCUACGGGAGGCAGCAGUGGGGAAUAUUGGACAAUGGGCGAAAGCCUGAUCCAGCCAUGCCGCGUGUGUGAAGAAGGUCUUCGGAUUGUAAAGCACUUUAAGUUGGGAGGAAGGGCAGUAAGUUAAUACCUUGCUGUUUUGACGUUACCGACAGAAUAAGCACCGGCUAACUCUGUGCCAGCAGCCGCGGUAAUACAGAGGGUGCAAGCGUUAAUCGGAAUUACUGGGCGUAAAGCGCGCGUAGGUGGUUCGUUAAGUUGGAUGUGAAAGCCCCGGGCUCAACCUGGGAACUGCAUCCAAAACUGGCGAGCUAGAGUACGGUAGAGGGUGGUGGAAUUUCCUGUGUAGCGGUGAAAUGCGUAGAUAUAGGAAGGAACACCAGUGGCGAAGGCGACCACCUGGACUGAUACUGACACUGAGGUGCGAAAGCGUGGGGAGCAAACAGGAUUAGAUACCCUGGUAGUCCACGCCGUAAACGAUGUCAACUAGCCGUUGGAAUCCUUGAGAUUUUAGUGGCGCANCUAACGCAUUAAGUUGACCGCCUGGGGAGUACGGCCGCAAGGUUAAAACUCNNAUGAAUUGACGGGGGCCCGCACAAGCGGUGGAGCAUGUGGUUUAAUUCGAAGCAACGCGAAGAACCUUACCAGGCCUUGACAUGCAGAGAACUUUCCAGAGAUGGAUUGGUGCCUUCGGGAACUCUGACACAGGUGCUGCAUGGCUGUCGUCAGCUCGUGUCGUGAGAUGUUGGGUUAAGUCCCGUAACGAGCGCAACCCUUGUCCUUAGUUACCAGCACGUAAUGGUGGGCACUCUAAGGAGACUGCCGGUGACAAACCGGAGGAAGGUGGGGAUGACGUCAAGUCAUCAUGGCCCUUACGGCCUGGGCUACACACGUGCUACAAUGGUCGGUACAGAGGGUUGCCAAGCCGCGAGGUGGAGCUAAUCUCACAAAACCGAUCGUAGUCCGGAUCGCAGUCUGCAACUCGACUGCGUGAAGUCGGAAUCGCUAGUAAUCGCGAAUCAGAAUGUCGCGGUGAAUACGUUCCCGGGCCUUGUACACACCGCCCGUCACACCAUGGGAGUGGGUUGCACCAGAAGUNNNNAGUCUAACCUUCGGGAGGACGGUUACNACGGUGUGAUUCAUGACUGGGGUGAAGUCGUAACAAGGUAGCCGUAGGGGAACCUGCGGCUGGAUCAC\"                                                                                                                            \n",
       " [7] \">SEQ_6262\\tAGUUUGAUCCUGGCUCAGAUUGAACGCUGGCGGCAGGCCUAACACAUGCAAGUCGAGCGGAUGAAGGGAGCUUGCUCCUGGAUUCAGCGGCGGACGGGUGAGUAAUGCCUAGGAAUCUGCCUGGUAGUGGGGGAUAACGUCCGGAAACGGGCGCUAAUACCGCAUACGUCCUGAGGGAGAAAGUGGGGGAUCUUCGGACCUCACGCUAUCAGAUGAGCCUAGGUCGGAUUAGCUAGUUGGUGGGGUAAAGGCCUACCAAGGCGACGAUCCGUAACUGGUCUGAGAGGAUGAUCAGUCACACUGGAACUGAGACACGGUCCAGACUCCUACGGGAGGCAGCAGUGGGGAAUAUUGGACAAUGGGCGAAAGCCUGAUCCAGCCAUGCCGCGUGUGUGAAGAAGGUCUUCGGAUUGUAAAGCACUUUAAGUUGGGAGGAAGGGCAGUAAGUUAAUACCUUGCUGUUUUGACGUUACCAACAGAAUAAGCACCGGCUAACUUCGUGCCAGCAGCCGCGGUAAUACGAAGGGUGCAAGCGUUAAUCGGAAUUACUGGGCGUAAAGCGCGCGUAGGUGGUUCAGCAAGUUGGAUGUGAAAUCCCCGGGCUCAACCUGGGAACUGCAUCCAAAACUACUGAGCUAGAGUACGGUAGAGGGUGGUGGAAUUUCCUGUGUAGCGGUGAAAUGCGUAGAUAUAGGAAGGAACACCAGUGGCGAAGGCGACCACCUGGACUGAUACUGACACUGAGGUGCGAAAGCGUGGGGAGCAAACAGGAUUAGAUACCCUGGUAGUCCACGCCGUAAACGAUGUCGACUAGCCGUUGGGAUCCUUGAGAUCUUAGUGGCGCNNNUAACGCGAUAAGUCGACCGCCUGGGGAGUACGGCCGCAAGGUUAAAACUCAAAUGAAUUGACGGGGGCCCGCACAAGCGGUGGAGCAUGUGGUUUAAUUCGAAGCAACGCGAAGAACCUUACCUGGCCUUGACAUGCUGAGAACUUUCCAGAGAUGGAUUGGUGCCUUCGGGAACUCAGACACAGGUGCUGCAUGGCUGUCGUCAGCUCGUGUCGUGAGAUGUUGGGUUAAGUCCCGUAACGAGCGCAACCCUUGUCCUUAGUUACCAGCACCUCGGGUGGGCACUCUAAGGAGACUGCCGGUGACAAACCGGAGGAAGGUGGGGAUGACGUCAAGUCAUCAUGGCCCUUACGGCCAGGGCUACACACGUGCUACAAUGGUCGGUACAAAGGGUUGCCAAGCCGCGAGGUGGAGCUAAUCCCAUAAAACCGAUCGUAGUCCGGAUCGCAGUCUGCAACUCGACUGCGUGAAGUCGGAAUCGCUAGUAAUCGUGAAUCAGAAUGUCACGGUGAAUACGUUCCCGGGCCUUGUACACACCGCCCGUCACACCAUGGGAGUGGGUUGCUCCAGAAGUAGCUAGUCUAACCGCAAGGGGGACGGUUACCACGGAGUAUUUCAUGACUGGGGUGAAGUCGUAACAAGGUAGCCGUAGGGGAACCUGCGGCUGGAUCACCUCCUU\"                                                                                                     \n",
       " [8] \">SEQ_2652\\tAGUUUGAUCCUGGCUCAGAUUGAACGCUGGCGGCAGGCCUAACACAUGCAAGUCGAGCGGAUGAAGGGAGCUUGCUCCUGGAUUCAGCGGCGGACGGGUGAGUAAUGCCUAGGAAUCUGCCUGGUAGUGGGGGAUAACGUCCGGAAACGGGCGCUAAUACCGCAUACGUCCUGAGGGAGAAAGUGGGGGAUCUUCGGACCUCACGCUAUCAGAUGAGCCUAGGUCGGAUUAGCUAGUUGGUGGGGUAAAGGCCUACCAAGGCGACGAUCCGUAACUGGUCUGAGAGGAUGAUCAGUCACACUGGAACUGAGACACGGUCCAGACUCCUACGGGAGGCAGCAGUGGGGAAUAUUGGACAAUGGGCGAAANNCUGAUCCAGCCAUGCCGCGUGUGUGAAGAAGGUCUUCGGAUUGUAAAGCACUUUAAGUUGGGAGGAAGGGCAGUAAGUUAAUACCUUGCUGUUUUGACGUUACCAACAGAAUAAGCACCGGCUAACUUCGUGCCAGCAGCCGCGGUAAUACGAAGGGUGCAAGCGUUAAUCGGAAUUACUGGGCGUAAAGCGCGCGUAGGUGGUUCAGCAAGUUGGAUGUGAAAUCCCCGGGCUCAACCUGGGAACUGCAUCCAAAACUACUGAGCUAGAGUACGGUAGAGGGUGGUGGAAUUUCCUGUGUAGCGGUGAAAUGCGUAGAUAUAGGAAGGAACACCAGUGGCGAAGGCGACCACCUGGACUGAUACUGACACUGAGGUGCGAAAGCGUGGGGAGCAAACAGGAUUAGAUACCCUGGUAGUCCACGCCGUAAACGAUGUCGACUAGCCGUUGGGAUCCUUGAGAUCUUAGUGGCGCAGNNNACGCGAUAAGUCGACCGCCUGGGGAGUACGGCCGCAAGGUUAAAACUCAAAUGAAUUGACGGGGGCCCGCACAAGCGGUGGAGCAUGUGGUUUAAUUCGAAGCAACGCGAAGAACCUUACCUGGCCUUGACAUGCUGAGAACUUUCCAGAGAUGGAUUGGUGCCUUCGGGAACUCAGACACAGGUGCUGCAUGGCUGUCGUCAGCUCGUGUCGUGAGAUGUUGGGUUAAGUCCCGUAACGAGCGCAACCCUUGUCCUUAGUUACCAGCACCUCGGGUGGGCACUCUAAGGAGACUGCCGGUGACAAACCGGAGGAAGGUGGGGAUGACGUCAAGUCAUCAUGGCCCUUACGGCCAGGGCUACACACGUGCUACAAUGGUCGGUACAAAGGGUUGCCAAGCCGCGAGGUGGAGCUAAUCCCAUAAAACCGAUCGUAGUCCGGAUCGCAGUCUGCAACUCGACUGCGUGAAGUCGGAAUCGCUAGUAAUCGUGAAUCAGAAUGUCACGGUGAAUACGUUCCCGGGCCUUGUACACACCGCCCGUCACACCAUGGGAGUGGGUUGCUCCAGAAGUAGCUAGUCUAACCGCAAGGGGGACGGUUACCACGGAGUNAUUCAUGACUGGGGUGAAGUCGUAACAAGGUAGCCGUAGGGGAACCUGCGGCUGGAUCACCUCCUU\"                                                                                                     \n",
       " [9] \">SEQ_7407\\tAGUUUGAUCCUGGCUCAGAUUGAACGCUGGCGGCAGGCCUAACACAUGCAAGUCGAGCGGAUGAAGGGAGCUUGCUCCUGGAUUCAGCGGCGGACGGGUGAGUAAUGCCUAGGAAUCUGCCUGGUAGUGGGGGAUAACGUCCGGAAACGGGCGCUAAUACCGCAUACGUCCUGAGGGAGAAAGUGGGGGAUCUUCGGACCUCACGCUAUCAGAUGAGCCUAGGUCGGAUUAGCUAGUUGGUGGGGUAAAGGCCUACCAAGGCGCCGAUCCGUAACUGGUCUGAGAGGAUGAUCAGUCACACUGGAACUGAGACACGGUCCAGACUCCUACGGGAAGCAGCAGUGGGGAAUAUUGGACAAUGGGCGAAANNNUGAUCCAGCCAUGCCGCGUGUGUGAAGAAGGUCUUCGGAUUGUAAAGCACUUUAAGUUGGGAGGAAGGGCAGUAAGUUAAUACCUUGCUGUUUUGACGUUACCAACAGAAUAAGCACCGGCUAACUUCGUGCCAGCAGCCGCGGUAAUACGAAGGGUGCAAGCGUUAAUCGGAAUUACUGGGCGUAAAGCGCGCGUAGGUGGUUCAGCAAGUUGGAUGUGAAAUCCCCGGGCUCAACCUGGGAACUGCAUCCAAAACUACUGAGCUAGAGUACGGUAGAGGGUGGUGGAAUUUCCUGUGUAGCGGUGAAAUGCGUAGAUAUAGGAAGGAACACCAGUGGCGAAGGCGACCACCUGGACUGAUACUGACACUGAGGUGCGAAAGCGUGGGGAGCAAACAGGAUUAGAUACCCUGGUAGUCCACGCCGUAAACGAUGUCGACUAGCCGUUGGGAUCCUUGAGAUCUUAGUGGCGCNNNUAACGCGAUAAGUCGACCGCCUGGGGAGUACGGCCGCAAGGUUAAAACUCAAAUGAAUUGACGGGGGCCCGCACAAGCGGUGGAGCAUGUGGUUUAAUUCGAAGCAACGCGAAGAACCUUACCUGGCCUUGACAUGCUGAGAACUUUCCAGAGAUGGAUUGGUGCCUUCGGGAACUCAGACACAGGUGCUGCAUGGCUGUCGUCAGCUCGUGUCGUGAGAUGUUGGGUUAAGUCCCGUAACGAGCGCAACCCUUGUCCUUAGUUACCAGCACCUCGGGUGGGCACUCUAAGGAGACUGCCGGUGACAAACCGGAGGAAGGUGGGGAUGACGUCAAGUCAUCAUGGCCCUUACGGCCAGGGCUACACACGUGCUACAAUGGUCGGUACAAAGGGUUGCCAAGCCGCGAGGUGGAGCUAAUCCCAUAAAACCGAUCGUAGUCCGGAUCGCAGUCUGCAACUCGACUGCGUGAAGUCGGAAUCGCUAGUAAUCGUGAAUCAGAAUGUCACGGUGAAUACGUUCCCGGGCCUUGUACACACCGCCCGUCACACCAUGGGAGUGGGUUGCUCCAGAAGUAGCUAGUCUAACCGCAAGGGGGACGGUUACCACGGAGUNAUUCAUGACUGGGGUGAAGUCGUAACAAGGUAGCCGUAGGGGAACCUGCGGCUGGAUCACCUCCUU\"                                                                                                     \n",
       "[10] \">SEQ_7472\\tAGUUUGAUCCUGGCUCAGAUUGAACGCUGGCGGCAGGCCUAACACAUGCAAGUCGAGCGGAUGAAGGGAGCUUGCUCCUGGAUUCAGCGGCGGACGGGUGAGUAAUGCCUAGGAAUCUGCCUGGUAGUGGGGGAUAACGUCCGGAAACGGGCGCUAAUACCGCAUACGUCCUGAGGGAGAAAGUGGGGGAUCUUCGGACCUCACGCUAUCAGAUGAGCCUAGGUCGGAUUAGCUAGUUGGUGGGGUAAAGGCCUACCAAGGCGACGAUCCGUAACUGGUCUGAGAGGAUGAUCAGUCACACUGGAACUGAGACACGGUCCAGACUCCUACGGGAGGCAGCAGUGGGGAAUAUUGGACAAUGGGCGAAANNNUGAUCCAGCCAUGCCGCGUGUGUGAAGAAGGUCUUCGGAUUGUAAAGCACUUUAAGUUGGGAGGAAGGGCAGUAAGUUAAUACCUUGCUGUUUUGACGUUACCAACAGAAUAAGCACCGGCUAACUUCGUGCCAGCAGCCGCGGUAAUACGAAGGGUGCAAGCGUUAAUCGGAAUUACUGGGCGUAAAGCGCGCGUAGGUGGUUCAGCAAGUUGGAUGUGAAAUCCCCGGGCUCAACCUGGGAACUGCAUCCAAAACUACUGAGCUAGAGUACGGUAGAGGGUGGUGGAAUUUCCUGUGUAGCGGUGAAAUGCGUAGAUAUAGGAAGGAACACCAGUGGCGAAGGCGACCACCUGGACUGAUACUGACACUGAGGUGCGAAAGCGUGGGGAGCAAACAGGAUUAGAUACCCUGGUAGUCCACGCCGUAAACGAUGUCGACUAGCCGUUGGGAUCCUUGAGAUCUUAGUGGCGCNNNNAACGCGAUAAGUCGACCGCCUGGGGAGUACGGCCGCAAGGUUAAAACUCAAAUGAAUUGACGGGGGCCCGCACAAGCGGUGGAGCAUGUGGUUUAAUUCGAAGCAACGCGAAGAACCUUACCUGGCCUUGACAUGCUGAGAACUUUCCAGAGAUGGAUUGGUGCCUUCGGGAACUCAGACACAGGUGCUGCAUGGCUGUCGUCAGCUCGUGUCGUGAGAUGUUGGGUUAAGUCCCGUAACGAGCGCAACCCUUGUCCUUAGUUACCAGCACCUCGGGUGGGCACUCUAAGGAGACUGCCGGUGACAAACCGGAGGAAGGUGGGGAUGACGUCAAGUCAUCAUGGCCCUUACGGCCAGGGCUACACACGUGCUACAAUGGUCGGUACAAAGGGUUGCCAAGCCGCGAGGUGGAGCUAAUCCCAUAAAACCGAUCGUAGUCCGGAUCGCAGUCUGCAACUCGACUGCGUGAAGUCGGAAUCGCUAGUAAUCGUGAAUCAGAAUGUCACGGUGAAUACGUUCCCGGGCCUUGUACACACCGCCCGUCACACCAUGGGAGUGGGUUGCUCCAGAAGUAGCUAGUCUAACCGCAAGGGGGACGGUUACCACGGAGUNAUUCAUGACUGGGGUGAAGUCGUAACAAGGUAGCCGUAGGGGAACCUGCGGCUGGAUCACCUCCUU\"                                                                                                     \n",
       "[11] \">SEQ_3121\\tAGUUUGAUCCUGGCUCAGAUUGAACGCUGGCGGCAGGCCUAACACAUGCAAGUCGAGCGGAUGAAGGGAGCUUGCUCCUGGAUUCAGCGGCGGACGGGUGAGUAAUGCCUAGGAAUCUGCCUGGUAGUGGGGGAUAACGUCCGGAAACGGGCGCUAAUACCGCAUACGUCCUGAGGGAGAAAGUGGGGGAUCUUCGGACCUCACGCUAUCAGAUGAGCCUAGGUCGGAUUAGCUAGUUGGUGGGGUAAAGGCCUACCAAGGCGACGAUCCGUAACUGGUCUGAGAGGAUGAUCAGUCACACUGGAACUGAGACACGGUCCAGACUCCUACGGGAGGCAGCAGUGGGGAAUAUUGGACAAUGGGCGAAAGCCUGAUCCAGCCAUGCCGCGUGUGUGAAGAAGGUCUUCGGAUUGUAAAGCACUUUAAGUUGGGAGGAAGGGCAGUAAGUUAAUACCUUGCUGUUUUGACGUUACCAACAGAAUAAGCACCGGCUAACUUCGUGCCAGCAGCCGCGGUAAUACGAAGGGUGCAAGCGUUAAUCGGAAUUACUGGGCGUAAAGCGCGCGUAGGUGGUUCAGCAAGUUGGAUGUGAAAUCCCCGGGCUCAACCUGGGAACUGCAUCCAAAACUACUGAGCUAGAGUACGGUAGAGGGUGGUGGAAUUUCCUGUGUAGCGGUGAAAUGCGUAGAUAUAGGAAGGAACACCAGUGGCGAAGGCGACCACCUGGACUGAUACUGACACUGAGGUGCGAAAGCGUGGGGAGCAAACAGGAUUAGAUACCCUGGUAGUCCACGCCGUAAACGAUGUCGACUAGCCGUUGGGAUCCUUGAGAUCUUAGUGGCGCANNNAACGCGAUAAGUCGACCGCCUGGGGAGUACGGCCGCAAGGUUAAAACUCAAAUGAAUUGACGGGGGCCCGCACAAGCGGUGGAGCAUGUGGUUUAAUUCGAAGCAACGCGAAGAACCUUACCUGGCCUUGACAUGCUGAGAACUUUCCAGAGAUGGAUUGGUGCCUUCGGGAACUCAGACACAGGUGCUGCAUGGCUGUCGUCAGCUCGUGUCGUGAGAUGUUGGGUUAAGUCCCGUAACGAGCGCAACCCUUGUCCUUAGUUACCAGCACCUCGGGUGGGCACUCUAAGGAGACUGCCGGUGACAAACCGGAGGAAGGUGGGGAUGACGUCAAGUCAUCAUGGCCCUUACGGCCAGGGCUACACACGUGCUACAAUGGUCGGUACAAAGGGUUGCCAAGCCGCGAGGUGGAGCUAAUCCCAUAAAACCGAUCGUAGUCCGGAUCGCAGUCUGCAACUCGACUGCGUGAAGUCGGAAUCGCUAGUAAUCGUGAAUCAGAAUGUCACGGUGAAUACGUUCCCGGGCCUUGUACACACCGCCCGUCACACCAUGGGAGUGGGUUGCUCCAGAAGUAGCUAGUCUAACCGCAAGGGGGACGGUUACCACGGAGUNAUUCAUGACUGGGGUGAAGUCGUAACAAGGUAGCCGUAGGGGAACCUGCGGCUGGAUCACCUCCUU\"                                                                                                     "
      ]
     },
     "metadata": {},
     "output_type": "display_data"
    },
    {
     "data": {
      "text/html": [
       "11"
      ],
      "text/latex": [
       "11"
      ],
      "text/markdown": [
       "11"
      ],
      "text/plain": [
       "[1] 11"
      ]
     },
     "metadata": {},
     "output_type": "display_data"
    }
   ],
   "source": [
    "bacez <- grep(\"(AUA)(G|U)(A|U)(U|A|G)(GA)C?(C|A)?(U|A)U[G]{3}\", df4, value = TRUE)\n",
    "bacez\n",
    "length(bacez) "
   ]
  }
 ],
 "metadata": {
  "@webio": {
   "lastCommId": null,
   "lastKernelId": null
  },
  "kernelspec": {
   "display_name": "R",
   "language": "R",
   "name": "ir"
  },
  "language_info": {
   "codemirror_mode": "r",
   "file_extension": ".r",
   "mimetype": "text/x-r-source",
   "name": "R",
   "pygments_lexer": "r",
   "version": "4.0.4"
  }
 },
 "nbformat": 4,
 "nbformat_minor": 5
}
